{
  "cells": [
    {
      "cell_type": "markdown",
      "id": "zzr9pX_KEQdW",
      "metadata": {
        "id": "zzr9pX_KEQdW"
      },
      "source": [
        "# ***Retrieval Augmented Generation on Medical Data***\n",
        "\n",
        "> In this project, a Retrieval-Augmented Generation (RAG) model is designed to assist users with medical queries. It utilizes Wikipedia's medical data to provide accurate and comprehensive information on a variety of topics within the medical domain, including:\n",
        "> - **Symptoms**: Understanding signs of different medical conditions.\n",
        "> - **Treatments**: Recommended therapies, medications, and procedures for various health issues.\n",
        "> - **Precautions**: Preventative measures to minimize risks associated with illnesses or health conditions.\n",
        "> - **Causes**: Factors or conditions that contribute to the onset of diseases.\n",
        "> - **Suggestions**: General advice or guidelines for managing health and wellness.\n",
        ">\n",
        "> The RAG model combines information retrieval and language generation, using Wikipedia’s extensive medical data as a knowledge base to answer user questions accurately and effectively. This approach ensures that users receive reliable, evidence-based responses to their medical inquiries.\n",
        "\n",
        "---\n",
        "\n",
        "\n",
        "\n"
      ]
    },
    {
      "cell_type": "markdown",
      "id": "fpXCF-K2EMBI",
      "metadata": {
        "id": "fpXCF-K2EMBI"
      },
      "source": [
        "\n",
        "# Installations"
      ]
    },
    {
      "cell_type": "code",
      "execution_count": 1,
      "id": "RhOS1eWkJBiI",
      "metadata": {
        "colab": {
          "base_uri": "https://localhost:8080/"
        },
        "collapsed": true,
        "id": "RhOS1eWkJBiI",
        "outputId": "c7884703-4d24-45bb-e25c-b31133fff0fd"
      },
      "outputs": [
        {
          "output_type": "stream",
          "name": "stdout",
          "text": [
            "Requirement already satisfied: langchain in /usr/local/lib/python3.10/dist-packages (0.3.4)\n",
            "Requirement already satisfied: PyYAML>=5.3 in /usr/local/lib/python3.10/dist-packages (from langchain) (6.0.2)\n",
            "Requirement already satisfied: SQLAlchemy<3,>=1.4 in /usr/local/lib/python3.10/dist-packages (from langchain) (2.0.36)\n",
            "Requirement already satisfied: aiohttp<4.0.0,>=3.8.3 in /usr/local/lib/python3.10/dist-packages (from langchain) (3.10.10)\n",
            "Requirement already satisfied: async-timeout<5.0.0,>=4.0.0 in /usr/local/lib/python3.10/dist-packages (from langchain) (4.0.3)\n",
            "Requirement already satisfied: langchain-core<0.4.0,>=0.3.12 in /usr/local/lib/python3.10/dist-packages (from langchain) (0.3.13)\n",
            "Requirement already satisfied: langchain-text-splitters<0.4.0,>=0.3.0 in /usr/local/lib/python3.10/dist-packages (from langchain) (0.3.0)\n",
            "Requirement already satisfied: langsmith<0.2.0,>=0.1.17 in /usr/local/lib/python3.10/dist-packages (from langchain) (0.1.137)\n",
            "Requirement already satisfied: numpy<2,>=1 in /usr/local/lib/python3.10/dist-packages (from langchain) (1.26.4)\n",
            "Requirement already satisfied: pydantic<3.0.0,>=2.7.4 in /usr/local/lib/python3.10/dist-packages (from langchain) (2.9.2)\n",
            "Requirement already satisfied: requests<3,>=2 in /usr/local/lib/python3.10/dist-packages (from langchain) (2.32.3)\n",
            "Requirement already satisfied: tenacity!=8.4.0,<10,>=8.1.0 in /usr/local/lib/python3.10/dist-packages (from langchain) (9.0.0)\n",
            "Requirement already satisfied: aiohappyeyeballs>=2.3.0 in /usr/local/lib/python3.10/dist-packages (from aiohttp<4.0.0,>=3.8.3->langchain) (2.4.3)\n",
            "Requirement already satisfied: aiosignal>=1.1.2 in /usr/local/lib/python3.10/dist-packages (from aiohttp<4.0.0,>=3.8.3->langchain) (1.3.1)\n",
            "Requirement already satisfied: attrs>=17.3.0 in /usr/local/lib/python3.10/dist-packages (from aiohttp<4.0.0,>=3.8.3->langchain) (24.2.0)\n",
            "Requirement already satisfied: frozenlist>=1.1.1 in /usr/local/lib/python3.10/dist-packages (from aiohttp<4.0.0,>=3.8.3->langchain) (1.4.1)\n",
            "Requirement already satisfied: multidict<7.0,>=4.5 in /usr/local/lib/python3.10/dist-packages (from aiohttp<4.0.0,>=3.8.3->langchain) (6.1.0)\n",
            "Requirement already satisfied: yarl<2.0,>=1.12.0 in /usr/local/lib/python3.10/dist-packages (from aiohttp<4.0.0,>=3.8.3->langchain) (1.16.0)\n",
            "Requirement already satisfied: jsonpatch<2.0,>=1.33 in /usr/local/lib/python3.10/dist-packages (from langchain-core<0.4.0,>=0.3.12->langchain) (1.33)\n",
            "Requirement already satisfied: packaging<25,>=23.2 in /usr/local/lib/python3.10/dist-packages (from langchain-core<0.4.0,>=0.3.12->langchain) (24.1)\n",
            "Requirement already satisfied: typing-extensions>=4.7 in /usr/local/lib/python3.10/dist-packages (from langchain-core<0.4.0,>=0.3.12->langchain) (4.12.2)\n",
            "Requirement already satisfied: httpx<1,>=0.23.0 in /usr/local/lib/python3.10/dist-packages (from langsmith<0.2.0,>=0.1.17->langchain) (0.27.2)\n",
            "Requirement already satisfied: orjson<4.0.0,>=3.9.14 in /usr/local/lib/python3.10/dist-packages (from langsmith<0.2.0,>=0.1.17->langchain) (3.10.10)\n",
            "Requirement already satisfied: requests-toolbelt<2.0.0,>=1.0.0 in /usr/local/lib/python3.10/dist-packages (from langsmith<0.2.0,>=0.1.17->langchain) (1.0.0)\n",
            "Requirement already satisfied: annotated-types>=0.6.0 in /usr/local/lib/python3.10/dist-packages (from pydantic<3.0.0,>=2.7.4->langchain) (0.7.0)\n",
            "Requirement already satisfied: pydantic-core==2.23.4 in /usr/local/lib/python3.10/dist-packages (from pydantic<3.0.0,>=2.7.4->langchain) (2.23.4)\n",
            "Requirement already satisfied: charset-normalizer<4,>=2 in /usr/local/lib/python3.10/dist-packages (from requests<3,>=2->langchain) (3.4.0)\n",
            "Requirement already satisfied: idna<4,>=2.5 in /usr/local/lib/python3.10/dist-packages (from requests<3,>=2->langchain) (3.10)\n",
            "Requirement already satisfied: urllib3<3,>=1.21.1 in /usr/local/lib/python3.10/dist-packages (from requests<3,>=2->langchain) (2.2.3)\n",
            "Requirement already satisfied: certifi>=2017.4.17 in /usr/local/lib/python3.10/dist-packages (from requests<3,>=2->langchain) (2024.8.30)\n",
            "Requirement already satisfied: greenlet!=0.4.17 in /usr/local/lib/python3.10/dist-packages (from SQLAlchemy<3,>=1.4->langchain) (3.1.1)\n",
            "Requirement already satisfied: anyio in /usr/local/lib/python3.10/dist-packages (from httpx<1,>=0.23.0->langsmith<0.2.0,>=0.1.17->langchain) (3.7.1)\n",
            "Requirement already satisfied: httpcore==1.* in /usr/local/lib/python3.10/dist-packages (from httpx<1,>=0.23.0->langsmith<0.2.0,>=0.1.17->langchain) (1.0.6)\n",
            "Requirement already satisfied: sniffio in /usr/local/lib/python3.10/dist-packages (from httpx<1,>=0.23.0->langsmith<0.2.0,>=0.1.17->langchain) (1.3.1)\n",
            "Requirement already satisfied: h11<0.15,>=0.13 in /usr/local/lib/python3.10/dist-packages (from httpcore==1.*->httpx<1,>=0.23.0->langsmith<0.2.0,>=0.1.17->langchain) (0.14.0)\n",
            "Requirement already satisfied: jsonpointer>=1.9 in /usr/local/lib/python3.10/dist-packages (from jsonpatch<2.0,>=1.33->langchain-core<0.4.0,>=0.3.12->langchain) (3.0.0)\n",
            "Requirement already satisfied: propcache>=0.2.0 in /usr/local/lib/python3.10/dist-packages (from yarl<2.0,>=1.12.0->aiohttp<4.0.0,>=3.8.3->langchain) (0.2.0)\n",
            "Requirement already satisfied: exceptiongroup in /usr/local/lib/python3.10/dist-packages (from anyio->httpx<1,>=0.23.0->langsmith<0.2.0,>=0.1.17->langchain) (1.2.2)\n"
          ]
        }
      ],
      "source": [
        "!pip install langchain"
      ]
    },
    {
      "cell_type": "code",
      "execution_count": 2,
      "id": "7cegD1yKJUf9",
      "metadata": {
        "colab": {
          "base_uri": "https://localhost:8080/"
        },
        "collapsed": true,
        "id": "7cegD1yKJUf9",
        "outputId": "657768ab-b48a-4582-99a9-d78eeb676389"
      },
      "outputs": [
        {
          "output_type": "stream",
          "name": "stdout",
          "text": [
            "Requirement already satisfied: pypdf in /usr/local/lib/python3.10/dist-packages (5.1.0)\n",
            "Requirement already satisfied: typing_extensions>=4.0 in /usr/local/lib/python3.10/dist-packages (from pypdf) (4.12.2)\n"
          ]
        }
      ],
      "source": [
        "!pip install pypdf"
      ]
    },
    {
      "cell_type": "code",
      "execution_count": 3,
      "id": "fXW3X458J6Os",
      "metadata": {
        "colab": {
          "base_uri": "https://localhost:8080/"
        },
        "collapsed": true,
        "id": "fXW3X458J6Os",
        "outputId": "767bcdab-e6e2-48f7-b66e-429abf466141"
      },
      "outputs": [
        {
          "output_type": "stream",
          "name": "stdout",
          "text": [
            "Requirement already satisfied: sentence-transformers in /usr/local/lib/python3.10/dist-packages (3.2.1)\n",
            "Requirement already satisfied: transformers<5.0.0,>=4.41.0 in /usr/local/lib/python3.10/dist-packages (from sentence-transformers) (4.44.2)\n",
            "Requirement already satisfied: tqdm in /usr/local/lib/python3.10/dist-packages (from sentence-transformers) (4.66.5)\n",
            "Requirement already satisfied: torch>=1.11.0 in /usr/local/lib/python3.10/dist-packages (from sentence-transformers) (2.5.0+cu121)\n",
            "Requirement already satisfied: scikit-learn in /usr/local/lib/python3.10/dist-packages (from sentence-transformers) (1.5.2)\n",
            "Requirement already satisfied: scipy in /usr/local/lib/python3.10/dist-packages (from sentence-transformers) (1.13.1)\n",
            "Requirement already satisfied: huggingface-hub>=0.20.0 in /usr/local/lib/python3.10/dist-packages (from sentence-transformers) (0.24.7)\n",
            "Requirement already satisfied: Pillow in /usr/local/lib/python3.10/dist-packages (from sentence-transformers) (10.4.0)\n",
            "Requirement already satisfied: filelock in /usr/local/lib/python3.10/dist-packages (from huggingface-hub>=0.20.0->sentence-transformers) (3.16.1)\n",
            "Requirement already satisfied: fsspec>=2023.5.0 in /usr/local/lib/python3.10/dist-packages (from huggingface-hub>=0.20.0->sentence-transformers) (2024.6.1)\n",
            "Requirement already satisfied: packaging>=20.9 in /usr/local/lib/python3.10/dist-packages (from huggingface-hub>=0.20.0->sentence-transformers) (24.1)\n",
            "Requirement already satisfied: pyyaml>=5.1 in /usr/local/lib/python3.10/dist-packages (from huggingface-hub>=0.20.0->sentence-transformers) (6.0.2)\n",
            "Requirement already satisfied: requests in /usr/local/lib/python3.10/dist-packages (from huggingface-hub>=0.20.0->sentence-transformers) (2.32.3)\n",
            "Requirement already satisfied: typing-extensions>=3.7.4.3 in /usr/local/lib/python3.10/dist-packages (from huggingface-hub>=0.20.0->sentence-transformers) (4.12.2)\n",
            "Requirement already satisfied: networkx in /usr/local/lib/python3.10/dist-packages (from torch>=1.11.0->sentence-transformers) (3.4.2)\n",
            "Requirement already satisfied: jinja2 in /usr/local/lib/python3.10/dist-packages (from torch>=1.11.0->sentence-transformers) (3.1.4)\n",
            "Requirement already satisfied: sympy==1.13.1 in /usr/local/lib/python3.10/dist-packages (from torch>=1.11.0->sentence-transformers) (1.13.1)\n",
            "Requirement already satisfied: mpmath<1.4,>=1.1.0 in /usr/local/lib/python3.10/dist-packages (from sympy==1.13.1->torch>=1.11.0->sentence-transformers) (1.3.0)\n",
            "Requirement already satisfied: numpy>=1.17 in /usr/local/lib/python3.10/dist-packages (from transformers<5.0.0,>=4.41.0->sentence-transformers) (1.26.4)\n",
            "Requirement already satisfied: regex!=2019.12.17 in /usr/local/lib/python3.10/dist-packages (from transformers<5.0.0,>=4.41.0->sentence-transformers) (2024.9.11)\n",
            "Requirement already satisfied: safetensors>=0.4.1 in /usr/local/lib/python3.10/dist-packages (from transformers<5.0.0,>=4.41.0->sentence-transformers) (0.4.5)\n",
            "Requirement already satisfied: tokenizers<0.20,>=0.19 in /usr/local/lib/python3.10/dist-packages (from transformers<5.0.0,>=4.41.0->sentence-transformers) (0.19.1)\n",
            "Requirement already satisfied: joblib>=1.2.0 in /usr/local/lib/python3.10/dist-packages (from scikit-learn->sentence-transformers) (1.4.2)\n",
            "Requirement already satisfied: threadpoolctl>=3.1.0 in /usr/local/lib/python3.10/dist-packages (from scikit-learn->sentence-transformers) (3.5.0)\n",
            "Requirement already satisfied: MarkupSafe>=2.0 in /usr/local/lib/python3.10/dist-packages (from jinja2->torch>=1.11.0->sentence-transformers) (3.0.2)\n",
            "Requirement already satisfied: charset-normalizer<4,>=2 in /usr/local/lib/python3.10/dist-packages (from requests->huggingface-hub>=0.20.0->sentence-transformers) (3.4.0)\n",
            "Requirement already satisfied: idna<4,>=2.5 in /usr/local/lib/python3.10/dist-packages (from requests->huggingface-hub>=0.20.0->sentence-transformers) (3.10)\n",
            "Requirement already satisfied: urllib3<3,>=1.21.1 in /usr/local/lib/python3.10/dist-packages (from requests->huggingface-hub>=0.20.0->sentence-transformers) (2.2.3)\n",
            "Requirement already satisfied: certifi>=2017.4.17 in /usr/local/lib/python3.10/dist-packages (from requests->huggingface-hub>=0.20.0->sentence-transformers) (2024.8.30)\n"
          ]
        }
      ],
      "source": [
        "!pip install sentence-transformers"
      ]
    },
    {
      "cell_type": "code",
      "execution_count": 4,
      "id": "IjULwdOrI2XN",
      "metadata": {
        "colab": {
          "base_uri": "https://localhost:8080/"
        },
        "collapsed": true,
        "id": "IjULwdOrI2XN",
        "outputId": "bb70ea8b-e21b-437f-e806-ba0068cf01f5"
      },
      "outputs": [
        {
          "output_type": "stream",
          "name": "stdout",
          "text": [
            "Requirement already satisfied: chromadb in /usr/local/lib/python3.10/dist-packages (0.5.16)\n",
            "Requirement already satisfied: build>=1.0.3 in /usr/local/lib/python3.10/dist-packages (from chromadb) (1.2.2.post1)\n",
            "Requirement already satisfied: pydantic>=1.9 in /usr/local/lib/python3.10/dist-packages (from chromadb) (2.9.2)\n",
            "Requirement already satisfied: chroma-hnswlib==0.7.6 in /usr/local/lib/python3.10/dist-packages (from chromadb) (0.7.6)\n",
            "Requirement already satisfied: fastapi>=0.95.2 in /usr/local/lib/python3.10/dist-packages (from chromadb) (0.115.4)\n",
            "Requirement already satisfied: uvicorn>=0.18.3 in /usr/local/lib/python3.10/dist-packages (from uvicorn[standard]>=0.18.3->chromadb) (0.32.0)\n",
            "Requirement already satisfied: numpy>=1.22.5 in /usr/local/lib/python3.10/dist-packages (from chromadb) (1.26.4)\n",
            "Requirement already satisfied: posthog>=2.4.0 in /usr/local/lib/python3.10/dist-packages (from chromadb) (3.7.0)\n",
            "Requirement already satisfied: typing-extensions>=4.5.0 in /usr/local/lib/python3.10/dist-packages (from chromadb) (4.12.2)\n",
            "Requirement already satisfied: onnxruntime>=1.14.1 in /usr/local/lib/python3.10/dist-packages (from chromadb) (1.19.2)\n",
            "Requirement already satisfied: opentelemetry-api>=1.2.0 in /usr/local/lib/python3.10/dist-packages (from chromadb) (1.27.0)\n",
            "Requirement already satisfied: opentelemetry-exporter-otlp-proto-grpc>=1.2.0 in /usr/local/lib/python3.10/dist-packages (from chromadb) (1.27.0)\n",
            "Requirement already satisfied: opentelemetry-instrumentation-fastapi>=0.41b0 in /usr/local/lib/python3.10/dist-packages (from chromadb) (0.48b0)\n",
            "Requirement already satisfied: opentelemetry-sdk>=1.2.0 in /usr/local/lib/python3.10/dist-packages (from chromadb) (1.27.0)\n",
            "Requirement already satisfied: tokenizers>=0.13.2 in /usr/local/lib/python3.10/dist-packages (from chromadb) (0.19.1)\n",
            "Requirement already satisfied: pypika>=0.48.9 in /usr/local/lib/python3.10/dist-packages (from chromadb) (0.48.9)\n",
            "Requirement already satisfied: tqdm>=4.65.0 in /usr/local/lib/python3.10/dist-packages (from chromadb) (4.66.5)\n",
            "Requirement already satisfied: overrides>=7.3.1 in /usr/local/lib/python3.10/dist-packages (from chromadb) (7.7.0)\n",
            "Requirement already satisfied: importlib-resources in /usr/local/lib/python3.10/dist-packages (from chromadb) (6.4.5)\n",
            "Requirement already satisfied: grpcio>=1.58.0 in /usr/local/lib/python3.10/dist-packages (from chromadb) (1.64.1)\n",
            "Requirement already satisfied: bcrypt>=4.0.1 in /usr/local/lib/python3.10/dist-packages (from chromadb) (4.2.0)\n",
            "Requirement already satisfied: typer>=0.9.0 in /usr/local/lib/python3.10/dist-packages (from chromadb) (0.12.5)\n",
            "Requirement already satisfied: kubernetes>=28.1.0 in /usr/local/lib/python3.10/dist-packages (from chromadb) (31.0.0)\n",
            "Requirement already satisfied: tenacity>=8.2.3 in /usr/local/lib/python3.10/dist-packages (from chromadb) (9.0.0)\n",
            "Requirement already satisfied: PyYAML>=6.0.0 in /usr/local/lib/python3.10/dist-packages (from chromadb) (6.0.2)\n",
            "Requirement already satisfied: mmh3>=4.0.1 in /usr/local/lib/python3.10/dist-packages (from chromadb) (5.0.1)\n",
            "Requirement already satisfied: orjson>=3.9.12 in /usr/local/lib/python3.10/dist-packages (from chromadb) (3.10.10)\n",
            "Requirement already satisfied: httpx>=0.27.0 in /usr/local/lib/python3.10/dist-packages (from chromadb) (0.27.2)\n",
            "Requirement already satisfied: rich>=10.11.0 in /usr/local/lib/python3.10/dist-packages (from chromadb) (13.9.3)\n",
            "Requirement already satisfied: packaging>=19.1 in /usr/local/lib/python3.10/dist-packages (from build>=1.0.3->chromadb) (24.1)\n",
            "Requirement already satisfied: pyproject_hooks in /usr/local/lib/python3.10/dist-packages (from build>=1.0.3->chromadb) (1.2.0)\n",
            "Requirement already satisfied: tomli>=1.1.0 in /usr/local/lib/python3.10/dist-packages (from build>=1.0.3->chromadb) (2.0.2)\n",
            "Requirement already satisfied: starlette<0.42.0,>=0.40.0 in /usr/local/lib/python3.10/dist-packages (from fastapi>=0.95.2->chromadb) (0.41.2)\n",
            "Requirement already satisfied: anyio in /usr/local/lib/python3.10/dist-packages (from httpx>=0.27.0->chromadb) (3.7.1)\n",
            "Requirement already satisfied: certifi in /usr/local/lib/python3.10/dist-packages (from httpx>=0.27.0->chromadb) (2024.8.30)\n",
            "Requirement already satisfied: httpcore==1.* in /usr/local/lib/python3.10/dist-packages (from httpx>=0.27.0->chromadb) (1.0.6)\n",
            "Requirement already satisfied: idna in /usr/local/lib/python3.10/dist-packages (from httpx>=0.27.0->chromadb) (3.10)\n",
            "Requirement already satisfied: sniffio in /usr/local/lib/python3.10/dist-packages (from httpx>=0.27.0->chromadb) (1.3.1)\n",
            "Requirement already satisfied: h11<0.15,>=0.13 in /usr/local/lib/python3.10/dist-packages (from httpcore==1.*->httpx>=0.27.0->chromadb) (0.14.0)\n",
            "Requirement already satisfied: six>=1.9.0 in /usr/local/lib/python3.10/dist-packages (from kubernetes>=28.1.0->chromadb) (1.16.0)\n",
            "Requirement already satisfied: python-dateutil>=2.5.3 in /usr/local/lib/python3.10/dist-packages (from kubernetes>=28.1.0->chromadb) (2.8.2)\n",
            "Requirement already satisfied: google-auth>=1.0.1 in /usr/local/lib/python3.10/dist-packages (from kubernetes>=28.1.0->chromadb) (2.27.0)\n",
            "Requirement already satisfied: websocket-client!=0.40.0,!=0.41.*,!=0.42.*,>=0.32.0 in /usr/local/lib/python3.10/dist-packages (from kubernetes>=28.1.0->chromadb) (1.8.0)\n",
            "Requirement already satisfied: requests in /usr/local/lib/python3.10/dist-packages (from kubernetes>=28.1.0->chromadb) (2.32.3)\n",
            "Requirement already satisfied: requests-oauthlib in /usr/local/lib/python3.10/dist-packages (from kubernetes>=28.1.0->chromadb) (1.3.1)\n",
            "Requirement already satisfied: oauthlib>=3.2.2 in /usr/local/lib/python3.10/dist-packages (from kubernetes>=28.1.0->chromadb) (3.2.2)\n",
            "Requirement already satisfied: urllib3>=1.24.2 in /usr/local/lib/python3.10/dist-packages (from kubernetes>=28.1.0->chromadb) (2.2.3)\n",
            "Requirement already satisfied: durationpy>=0.7 in /usr/local/lib/python3.10/dist-packages (from kubernetes>=28.1.0->chromadb) (0.9)\n",
            "Requirement already satisfied: coloredlogs in /usr/local/lib/python3.10/dist-packages (from onnxruntime>=1.14.1->chromadb) (15.0.1)\n",
            "Requirement already satisfied: flatbuffers in /usr/local/lib/python3.10/dist-packages (from onnxruntime>=1.14.1->chromadb) (24.3.25)\n",
            "Requirement already satisfied: protobuf in /usr/local/lib/python3.10/dist-packages (from onnxruntime>=1.14.1->chromadb) (3.20.3)\n",
            "Requirement already satisfied: sympy in /usr/local/lib/python3.10/dist-packages (from onnxruntime>=1.14.1->chromadb) (1.13.1)\n",
            "Requirement already satisfied: deprecated>=1.2.6 in /usr/local/lib/python3.10/dist-packages (from opentelemetry-api>=1.2.0->chromadb) (1.2.14)\n",
            "Requirement already satisfied: importlib-metadata<=8.4.0,>=6.0 in /usr/local/lib/python3.10/dist-packages (from opentelemetry-api>=1.2.0->chromadb) (8.4.0)\n",
            "Requirement already satisfied: googleapis-common-protos~=1.52 in /usr/local/lib/python3.10/dist-packages (from opentelemetry-exporter-otlp-proto-grpc>=1.2.0->chromadb) (1.65.0)\n",
            "Requirement already satisfied: opentelemetry-exporter-otlp-proto-common==1.27.0 in /usr/local/lib/python3.10/dist-packages (from opentelemetry-exporter-otlp-proto-grpc>=1.2.0->chromadb) (1.27.0)\n",
            "Requirement already satisfied: opentelemetry-proto==1.27.0 in /usr/local/lib/python3.10/dist-packages (from opentelemetry-exporter-otlp-proto-grpc>=1.2.0->chromadb) (1.27.0)\n",
            "Requirement already satisfied: opentelemetry-instrumentation-asgi==0.48b0 in /usr/local/lib/python3.10/dist-packages (from opentelemetry-instrumentation-fastapi>=0.41b0->chromadb) (0.48b0)\n",
            "Requirement already satisfied: opentelemetry-instrumentation==0.48b0 in /usr/local/lib/python3.10/dist-packages (from opentelemetry-instrumentation-fastapi>=0.41b0->chromadb) (0.48b0)\n",
            "Requirement already satisfied: opentelemetry-semantic-conventions==0.48b0 in /usr/local/lib/python3.10/dist-packages (from opentelemetry-instrumentation-fastapi>=0.41b0->chromadb) (0.48b0)\n",
            "Requirement already satisfied: opentelemetry-util-http==0.48b0 in /usr/local/lib/python3.10/dist-packages (from opentelemetry-instrumentation-fastapi>=0.41b0->chromadb) (0.48b0)\n",
            "Requirement already satisfied: setuptools>=16.0 in /usr/local/lib/python3.10/dist-packages (from opentelemetry-instrumentation==0.48b0->opentelemetry-instrumentation-fastapi>=0.41b0->chromadb) (75.1.0)\n",
            "Requirement already satisfied: wrapt<2.0.0,>=1.0.0 in /usr/local/lib/python3.10/dist-packages (from opentelemetry-instrumentation==0.48b0->opentelemetry-instrumentation-fastapi>=0.41b0->chromadb) (1.16.0)\n",
            "Requirement already satisfied: asgiref~=3.0 in /usr/local/lib/python3.10/dist-packages (from opentelemetry-instrumentation-asgi==0.48b0->opentelemetry-instrumentation-fastapi>=0.41b0->chromadb) (3.8.1)\n",
            "Requirement already satisfied: monotonic>=1.5 in /usr/local/lib/python3.10/dist-packages (from posthog>=2.4.0->chromadb) (1.6)\n",
            "Requirement already satisfied: backoff>=1.10.0 in /usr/local/lib/python3.10/dist-packages (from posthog>=2.4.0->chromadb) (2.2.1)\n",
            "Requirement already satisfied: annotated-types>=0.6.0 in /usr/local/lib/python3.10/dist-packages (from pydantic>=1.9->chromadb) (0.7.0)\n",
            "Requirement already satisfied: pydantic-core==2.23.4 in /usr/local/lib/python3.10/dist-packages (from pydantic>=1.9->chromadb) (2.23.4)\n",
            "Requirement already satisfied: markdown-it-py>=2.2.0 in /usr/local/lib/python3.10/dist-packages (from rich>=10.11.0->chromadb) (3.0.0)\n",
            "Requirement already satisfied: pygments<3.0.0,>=2.13.0 in /usr/local/lib/python3.10/dist-packages (from rich>=10.11.0->chromadb) (2.18.0)\n",
            "Requirement already satisfied: huggingface-hub<1.0,>=0.16.4 in /usr/local/lib/python3.10/dist-packages (from tokenizers>=0.13.2->chromadb) (0.24.7)\n",
            "Requirement already satisfied: click>=8.0.0 in /usr/local/lib/python3.10/dist-packages (from typer>=0.9.0->chromadb) (8.1.7)\n",
            "Requirement already satisfied: shellingham>=1.3.0 in /usr/local/lib/python3.10/dist-packages (from typer>=0.9.0->chromadb) (1.5.4)\n",
            "Requirement already satisfied: httptools>=0.5.0 in /usr/local/lib/python3.10/dist-packages (from uvicorn[standard]>=0.18.3->chromadb) (0.6.4)\n",
            "Requirement already satisfied: python-dotenv>=0.13 in /usr/local/lib/python3.10/dist-packages (from uvicorn[standard]>=0.18.3->chromadb) (1.0.1)\n",
            "Requirement already satisfied: uvloop!=0.15.0,!=0.15.1,>=0.14.0 in /usr/local/lib/python3.10/dist-packages (from uvicorn[standard]>=0.18.3->chromadb) (0.21.0)\n",
            "Requirement already satisfied: watchfiles>=0.13 in /usr/local/lib/python3.10/dist-packages (from uvicorn[standard]>=0.18.3->chromadb) (0.24.0)\n",
            "Requirement already satisfied: websockets>=10.4 in /usr/local/lib/python3.10/dist-packages (from uvicorn[standard]>=0.18.3->chromadb) (13.1)\n",
            "Requirement already satisfied: cachetools<6.0,>=2.0.0 in /usr/local/lib/python3.10/dist-packages (from google-auth>=1.0.1->kubernetes>=28.1.0->chromadb) (5.5.0)\n",
            "Requirement already satisfied: pyasn1-modules>=0.2.1 in /usr/local/lib/python3.10/dist-packages (from google-auth>=1.0.1->kubernetes>=28.1.0->chromadb) (0.4.1)\n",
            "Requirement already satisfied: rsa<5,>=3.1.4 in /usr/local/lib/python3.10/dist-packages (from google-auth>=1.0.1->kubernetes>=28.1.0->chromadb) (4.9)\n",
            "Requirement already satisfied: filelock in /usr/local/lib/python3.10/dist-packages (from huggingface-hub<1.0,>=0.16.4->tokenizers>=0.13.2->chromadb) (3.16.1)\n",
            "Requirement already satisfied: fsspec>=2023.5.0 in /usr/local/lib/python3.10/dist-packages (from huggingface-hub<1.0,>=0.16.4->tokenizers>=0.13.2->chromadb) (2024.6.1)\n",
            "Requirement already satisfied: zipp>=0.5 in /usr/local/lib/python3.10/dist-packages (from importlib-metadata<=8.4.0,>=6.0->opentelemetry-api>=1.2.0->chromadb) (3.20.2)\n",
            "Requirement already satisfied: mdurl~=0.1 in /usr/local/lib/python3.10/dist-packages (from markdown-it-py>=2.2.0->rich>=10.11.0->chromadb) (0.1.2)\n",
            "Requirement already satisfied: charset-normalizer<4,>=2 in /usr/local/lib/python3.10/dist-packages (from requests->kubernetes>=28.1.0->chromadb) (3.4.0)\n",
            "Requirement already satisfied: exceptiongroup in /usr/local/lib/python3.10/dist-packages (from anyio->httpx>=0.27.0->chromadb) (1.2.2)\n",
            "Requirement already satisfied: humanfriendly>=9.1 in /usr/local/lib/python3.10/dist-packages (from coloredlogs->onnxruntime>=1.14.1->chromadb) (10.0)\n",
            "Requirement already satisfied: mpmath<1.4,>=1.1.0 in /usr/local/lib/python3.10/dist-packages (from sympy->onnxruntime>=1.14.1->chromadb) (1.3.0)\n",
            "Requirement already satisfied: pyasn1<0.7.0,>=0.4.6 in /usr/local/lib/python3.10/dist-packages (from pyasn1-modules>=0.2.1->google-auth>=1.0.1->kubernetes>=28.1.0->chromadb) (0.6.1)\n"
          ]
        }
      ],
      "source": [
        "!pip install chromadb"
      ]
    },
    {
      "cell_type": "code",
      "execution_count": 5,
      "id": "tiYSda9EKa36",
      "metadata": {
        "colab": {
          "base_uri": "https://localhost:8080/"
        },
        "collapsed": true,
        "id": "tiYSda9EKa36",
        "outputId": "9c6bfc30-01a3-44ea-d5db-10081a9534d8"
      },
      "outputs": [
        {
          "output_type": "stream",
          "name": "stdout",
          "text": [
            "Requirement already satisfied: groq in /usr/local/lib/python3.10/dist-packages (0.11.0)\n",
            "Requirement already satisfied: anyio<5,>=3.5.0 in /usr/local/lib/python3.10/dist-packages (from groq) (3.7.1)\n",
            "Requirement already satisfied: distro<2,>=1.7.0 in /usr/lib/python3/dist-packages (from groq) (1.7.0)\n",
            "Requirement already satisfied: httpx<1,>=0.23.0 in /usr/local/lib/python3.10/dist-packages (from groq) (0.27.2)\n",
            "Requirement already satisfied: pydantic<3,>=1.9.0 in /usr/local/lib/python3.10/dist-packages (from groq) (2.9.2)\n",
            "Requirement already satisfied: sniffio in /usr/local/lib/python3.10/dist-packages (from groq) (1.3.1)\n",
            "Requirement already satisfied: typing-extensions<5,>=4.7 in /usr/local/lib/python3.10/dist-packages (from groq) (4.12.2)\n",
            "Requirement already satisfied: idna>=2.8 in /usr/local/lib/python3.10/dist-packages (from anyio<5,>=3.5.0->groq) (3.10)\n",
            "Requirement already satisfied: exceptiongroup in /usr/local/lib/python3.10/dist-packages (from anyio<5,>=3.5.0->groq) (1.2.2)\n",
            "Requirement already satisfied: certifi in /usr/local/lib/python3.10/dist-packages (from httpx<1,>=0.23.0->groq) (2024.8.30)\n",
            "Requirement already satisfied: httpcore==1.* in /usr/local/lib/python3.10/dist-packages (from httpx<1,>=0.23.0->groq) (1.0.6)\n",
            "Requirement already satisfied: h11<0.15,>=0.13 in /usr/local/lib/python3.10/dist-packages (from httpcore==1.*->httpx<1,>=0.23.0->groq) (0.14.0)\n",
            "Requirement already satisfied: annotated-types>=0.6.0 in /usr/local/lib/python3.10/dist-packages (from pydantic<3,>=1.9.0->groq) (0.7.0)\n",
            "Requirement already satisfied: pydantic-core==2.23.4 in /usr/local/lib/python3.10/dist-packages (from pydantic<3,>=1.9.0->groq) (2.23.4)\n"
          ]
        }
      ],
      "source": [
        "!pip install groq"
      ]
    },
    {
      "cell_type": "code",
      "execution_count": 6,
      "id": "tZI-fqskKpW7",
      "metadata": {
        "colab": {
          "base_uri": "https://localhost:8080/"
        },
        "collapsed": true,
        "id": "tZI-fqskKpW7",
        "outputId": "c86aeb1d-6642-438f-a81f-88e8cfe86beb"
      },
      "outputs": [
        {
          "output_type": "stream",
          "name": "stdout",
          "text": [
            "Requirement already satisfied: umap-learn in /usr/local/lib/python3.10/dist-packages (0.5.7)\n",
            "Requirement already satisfied: numpy>=1.17 in /usr/local/lib/python3.10/dist-packages (from umap-learn) (1.26.4)\n",
            "Requirement already satisfied: scipy>=1.3.1 in /usr/local/lib/python3.10/dist-packages (from umap-learn) (1.13.1)\n",
            "Requirement already satisfied: scikit-learn>=0.22 in /usr/local/lib/python3.10/dist-packages (from umap-learn) (1.5.2)\n",
            "Requirement already satisfied: numba>=0.51.2 in /usr/local/lib/python3.10/dist-packages (from umap-learn) (0.60.0)\n",
            "Requirement already satisfied: pynndescent>=0.5 in /usr/local/lib/python3.10/dist-packages (from umap-learn) (0.5.13)\n",
            "Requirement already satisfied: tqdm in /usr/local/lib/python3.10/dist-packages (from umap-learn) (4.66.5)\n",
            "Requirement already satisfied: llvmlite<0.44,>=0.43.0dev0 in /usr/local/lib/python3.10/dist-packages (from numba>=0.51.2->umap-learn) (0.43.0)\n",
            "Requirement already satisfied: joblib>=0.11 in /usr/local/lib/python3.10/dist-packages (from pynndescent>=0.5->umap-learn) (1.4.2)\n",
            "Requirement already satisfied: threadpoolctl>=3.1.0 in /usr/local/lib/python3.10/dist-packages (from scikit-learn>=0.22->umap-learn) (3.5.0)\n"
          ]
        }
      ],
      "source": [
        "!pip install umap-learn"
      ]
    },
    {
      "cell_type": "code",
      "source": [
        "!pip install datasets"
      ],
      "metadata": {
        "colab": {
          "base_uri": "https://localhost:8080/"
        },
        "id": "4USlO5YulMgF",
        "outputId": "c3014078-8602-4781-84c8-eee52983ca6c"
      },
      "id": "4USlO5YulMgF",
      "execution_count": 7,
      "outputs": [
        {
          "output_type": "stream",
          "name": "stdout",
          "text": [
            "Requirement already satisfied: datasets in /usr/local/lib/python3.10/dist-packages (3.0.2)\n",
            "Requirement already satisfied: filelock in /usr/local/lib/python3.10/dist-packages (from datasets) (3.16.1)\n",
            "Requirement already satisfied: numpy>=1.17 in /usr/local/lib/python3.10/dist-packages (from datasets) (1.26.4)\n",
            "Requirement already satisfied: pyarrow>=15.0.0 in /usr/local/lib/python3.10/dist-packages (from datasets) (16.1.0)\n",
            "Requirement already satisfied: dill<0.3.9,>=0.3.0 in /usr/local/lib/python3.10/dist-packages (from datasets) (0.3.8)\n",
            "Requirement already satisfied: pandas in /usr/local/lib/python3.10/dist-packages (from datasets) (2.2.2)\n",
            "Requirement already satisfied: requests>=2.32.2 in /usr/local/lib/python3.10/dist-packages (from datasets) (2.32.3)\n",
            "Requirement already satisfied: tqdm>=4.66.3 in /usr/local/lib/python3.10/dist-packages (from datasets) (4.66.5)\n",
            "Requirement already satisfied: xxhash in /usr/local/lib/python3.10/dist-packages (from datasets) (3.5.0)\n",
            "Requirement already satisfied: multiprocess<0.70.17 in /usr/local/lib/python3.10/dist-packages (from datasets) (0.70.16)\n",
            "Requirement already satisfied: fsspec<=2024.9.0,>=2023.1.0 in /usr/local/lib/python3.10/dist-packages (from fsspec[http]<=2024.9.0,>=2023.1.0->datasets) (2024.6.1)\n",
            "Requirement already satisfied: aiohttp in /usr/local/lib/python3.10/dist-packages (from datasets) (3.10.10)\n",
            "Requirement already satisfied: huggingface-hub>=0.23.0 in /usr/local/lib/python3.10/dist-packages (from datasets) (0.24.7)\n",
            "Requirement already satisfied: packaging in /usr/local/lib/python3.10/dist-packages (from datasets) (24.1)\n",
            "Requirement already satisfied: pyyaml>=5.1 in /usr/local/lib/python3.10/dist-packages (from datasets) (6.0.2)\n",
            "Requirement already satisfied: aiohappyeyeballs>=2.3.0 in /usr/local/lib/python3.10/dist-packages (from aiohttp->datasets) (2.4.3)\n",
            "Requirement already satisfied: aiosignal>=1.1.2 in /usr/local/lib/python3.10/dist-packages (from aiohttp->datasets) (1.3.1)\n",
            "Requirement already satisfied: attrs>=17.3.0 in /usr/local/lib/python3.10/dist-packages (from aiohttp->datasets) (24.2.0)\n",
            "Requirement already satisfied: frozenlist>=1.1.1 in /usr/local/lib/python3.10/dist-packages (from aiohttp->datasets) (1.4.1)\n",
            "Requirement already satisfied: multidict<7.0,>=4.5 in /usr/local/lib/python3.10/dist-packages (from aiohttp->datasets) (6.1.0)\n",
            "Requirement already satisfied: yarl<2.0,>=1.12.0 in /usr/local/lib/python3.10/dist-packages (from aiohttp->datasets) (1.16.0)\n",
            "Requirement already satisfied: async-timeout<5.0,>=4.0 in /usr/local/lib/python3.10/dist-packages (from aiohttp->datasets) (4.0.3)\n",
            "Requirement already satisfied: typing-extensions>=3.7.4.3 in /usr/local/lib/python3.10/dist-packages (from huggingface-hub>=0.23.0->datasets) (4.12.2)\n",
            "Requirement already satisfied: charset-normalizer<4,>=2 in /usr/local/lib/python3.10/dist-packages (from requests>=2.32.2->datasets) (3.4.0)\n",
            "Requirement already satisfied: idna<4,>=2.5 in /usr/local/lib/python3.10/dist-packages (from requests>=2.32.2->datasets) (3.10)\n",
            "Requirement already satisfied: urllib3<3,>=1.21.1 in /usr/local/lib/python3.10/dist-packages (from requests>=2.32.2->datasets) (2.2.3)\n",
            "Requirement already satisfied: certifi>=2017.4.17 in /usr/local/lib/python3.10/dist-packages (from requests>=2.32.2->datasets) (2024.8.30)\n",
            "Requirement already satisfied: python-dateutil>=2.8.2 in /usr/local/lib/python3.10/dist-packages (from pandas->datasets) (2.8.2)\n",
            "Requirement already satisfied: pytz>=2020.1 in /usr/local/lib/python3.10/dist-packages (from pandas->datasets) (2024.2)\n",
            "Requirement already satisfied: tzdata>=2022.7 in /usr/local/lib/python3.10/dist-packages (from pandas->datasets) (2024.2)\n",
            "Requirement already satisfied: six>=1.5 in /usr/local/lib/python3.10/dist-packages (from python-dateutil>=2.8.2->pandas->datasets) (1.16.0)\n",
            "Requirement already satisfied: propcache>=0.2.0 in /usr/local/lib/python3.10/dist-packages (from yarl<2.0,>=1.12.0->aiohttp->datasets) (0.2.0)\n"
          ]
        }
      ]
    },
    {
      "cell_type": "markdown",
      "source": [
        "# Medical Data"
      ],
      "metadata": {
        "id": "1x1yDlBPqnoD"
      },
      "id": "1x1yDlBPqnoD"
    },
    {
      "cell_type": "code",
      "source": [
        "from datasets import load_dataset\n",
        "\n",
        "ds = load_dataset(\"gamino/wiki_medical_terms\")"
      ],
      "metadata": {
        "colab": {
          "base_uri": "https://localhost:8080/"
        },
        "id": "D6O-47uDqnQj",
        "outputId": "0949bbc7-3e1f-4092-881c-bbab4abf3b93",
        "collapsed": true
      },
      "id": "D6O-47uDqnQj",
      "execution_count": 8,
      "outputs": [
        {
          "output_type": "stream",
          "name": "stderr",
          "text": [
            "/usr/local/lib/python3.10/dist-packages/huggingface_hub/utils/_token.py:89: UserWarning: \n",
            "The secret `HF_TOKEN` does not exist in your Colab secrets.\n",
            "To authenticate with the Hugging Face Hub, create a token in your settings tab (https://huggingface.co/settings/tokens), set it as secret in your Google Colab and restart your session.\n",
            "You will be able to reuse this secret in all of your notebooks.\n",
            "Please note that authentication is recommended but still optional to access public models or datasets.\n",
            "  warnings.warn(\n"
          ]
        }
      ]
    },
    {
      "cell_type": "code",
      "source": [
        "ds['train'][0].keys()"
      ],
      "metadata": {
        "colab": {
          "base_uri": "https://localhost:8080/"
        },
        "id": "-65Mxjj2qw8R",
        "outputId": "b086da27-5c08-4eb5-a0e4-9821a5c5b7a3"
      },
      "id": "-65Mxjj2qw8R",
      "execution_count": 9,
      "outputs": [
        {
          "output_type": "execute_result",
          "data": {
            "text/plain": [
              "dict_keys(['page_title', 'page_text', '__index_level_0__'])"
            ]
          },
          "metadata": {},
          "execution_count": 9
        }
      ]
    },
    {
      "cell_type": "code",
      "execution_count": 10,
      "id": "5a5536f0-651c-40e7-aa15-27ee0cda80b7",
      "metadata": {
        "id": "5a5536f0-651c-40e7-aa15-27ee0cda80b7"
      },
      "outputs": [],
      "source": [
        "import chromadb\n",
        "\n",
        "from langchain.text_splitter import RecursiveCharacterTextSplitter, SentenceTransformersTokenTextSplitter\n",
        "import numpy as np\n",
        "from pypdf import PdfReader\n",
        "from tqdm import tqdm\n",
        "\n",
        "from chromadb.utils.embedding_functions import SentenceTransformerEmbeddingFunction"
      ]
    },
    {
      "cell_type": "code",
      "source": [
        "texts = []\n",
        "for i in range(10):\n",
        "    texts.append(ds['train'][i]['page_text'])"
      ],
      "metadata": {
        "id": "AkIYt87ugg3x"
      },
      "id": "AkIYt87ugg3x",
      "execution_count": 11,
      "outputs": []
    },
    {
      "cell_type": "code",
      "source": [
        "def recursive_chunker(texts):\n",
        "  \"\"\" Chunk texts to ensure that all the chunks are relatively of same length for better embeddings.\"\"\"\n",
        "  character_splitter = RecursiveCharacterTextSplitter(\n",
        "      separators=[\"\\n\\n\", \"\\n\", \". \", \" \", \"\"],\n",
        "      chunk_size=1000,\n",
        "      chunk_overlap=0\n",
        "  )\n",
        "  character_split_texts = character_splitter.split_text('\\n\\n'.join(texts))\n",
        "\n",
        "  token_splitter = SentenceTransformersTokenTextSplitter(chunk_overlap=0, tokens_per_chunk=256)\n",
        "\n",
        "  token_split_texts = []\n",
        "  for text in character_split_texts:\n",
        "      token_split_texts += token_splitter.split_text(text)\n",
        "\n",
        "  return token_split_texts"
      ],
      "metadata": {
        "id": "jaKlxA7VfMT_"
      },
      "id": "jaKlxA7VfMT_",
      "execution_count": 12,
      "outputs": []
    },
    {
      "cell_type": "code",
      "source": [
        "sample_chunks = recursive_chunker(texts)\n",
        "for c in sample_chunks:\n",
        "    print(len(c))"
      ],
      "metadata": {
        "colab": {
          "base_uri": "https://localhost:8080/"
        },
        "collapsed": true,
        "id": "YGt8JpZTfMKE",
        "outputId": "0feb212e-f652-4a5a-815a-2f0f2ac7c09f"
      },
      "id": "YGt8JpZTfMKE",
      "execution_count": 13,
      "outputs": [
        {
          "output_type": "stream",
          "name": "stderr",
          "text": [
            "/usr/local/lib/python3.10/dist-packages/transformers/tokenization_utils_base.py:1601: FutureWarning: `clean_up_tokenization_spaces` was not set. It will be set to `True` by default. This behavior will be depracted in transformers v4.45, and will be then set to `False` by default. For more details check this issue: https://github.com/huggingface/transformers/issues/31884\n",
            "  warnings.warn(\n"
          ]
        },
        {
          "output_type": "stream",
          "name": "stdout",
          "text": [
            "902\n",
            "969\n",
            "510\n",
            "18\n",
            "872\n",
            "895\n",
            "5\n",
            "966\n",
            "726\n",
            "675\n",
            "437\n",
            "15\n",
            "889\n",
            "321\n",
            "9\n",
            "809\n",
            "637\n",
            "681\n",
            "37\n",
            "988\n",
            "207\n",
            "344\n",
            "672\n",
            "982\n",
            "25\n",
            "33\n",
            "833\n",
            "888\n",
            "438\n",
            "14\n",
            "801\n",
            "925\n",
            "997\n",
            "1008\n",
            "881\n",
            "950\n",
            "997\n",
            "12\n",
            "817\n",
            "534\n",
            "149\n",
            "910\n",
            "1001\n",
            "104\n",
            "856\n",
            "405\n",
            "24\n",
            "899\n",
            "894\n",
            "960\n",
            "183\n",
            "761\n",
            "381\n",
            "844\n",
            "178\n",
            "953\n",
            "485\n",
            "971\n",
            "618\n",
            "7\n",
            "823\n",
            "775\n",
            "478\n",
            "671\n",
            "22\n",
            "621\n",
            "402\n",
            "9\n",
            "979\n",
            "67\n",
            "54\n",
            "977\n",
            "915\n",
            "643\n",
            "939\n",
            "931\n",
            "477\n",
            "274\n",
            "768\n",
            "432\n",
            "944\n",
            "146\n",
            "394\n",
            "830\n",
            "327\n",
            "100\n",
            "1011\n",
            "423\n",
            "776\n",
            "6\n",
            "901\n",
            "524\n",
            "21\n",
            "1014\n",
            "848\n",
            "731\n",
            "871\n",
            "448\n",
            "920\n",
            "766\n",
            "884\n",
            "906\n",
            "529\n",
            "1012\n",
            "297\n",
            "535\n",
            "689\n",
            "781\n",
            "18\n",
            "816\n",
            "308\n",
            "15\n",
            "361\n",
            "936\n",
            "955\n",
            "596\n",
            "1004\n",
            "1005\n",
            "705\n",
            "590\n",
            "848\n",
            "528\n",
            "572\n",
            "14\n",
            "882\n",
            "182\n",
            "855\n",
            "685\n",
            "373\n",
            "926\n",
            "769\n",
            "783\n",
            "696\n",
            "728\n",
            "728\n",
            "877\n",
            "819\n",
            "8\n",
            "823\n",
            "368\n",
            "529\n",
            "29\n",
            "827\n",
            "191\n",
            "233\n",
            "824\n",
            "983\n",
            "658\n",
            "599\n",
            "544\n",
            "567\n",
            "574\n",
            "9\n",
            "773\n",
            "919\n",
            "880\n",
            "506\n",
            "949\n",
            "55\n",
            "117\n",
            "860\n",
            "538\n",
            "970\n",
            "420\n",
            "718\n",
            "471\n",
            "924\n",
            "18\n",
            "920\n",
            "831\n",
            "15\n",
            "918\n",
            "482\n",
            "501\n",
            "754\n",
            "718\n",
            "397\n",
            "9\n",
            "799\n",
            "393\n",
            "674\n",
            "981\n",
            "921\n",
            "1003\n",
            "455\n",
            "11\n",
            "929\n",
            "286\n",
            "21\n",
            "900\n",
            "522\n",
            "15\n",
            "976\n",
            "537\n",
            "8\n",
            "966\n",
            "929\n",
            "760\n",
            "804\n",
            "378\n",
            "15\n",
            "768\n",
            "915\n",
            "429\n",
            "606\n",
            "976\n",
            "946\n",
            "678\n",
            "633\n",
            "994\n",
            "50\n",
            "18\n",
            "845\n",
            "503\n",
            "6\n",
            "951\n",
            "516\n",
            "349\n",
            "74\n",
            "949\n",
            "831\n",
            "9\n",
            "959\n",
            "881\n",
            "572\n",
            "9\n",
            "960\n",
            "141\n",
            "971\n",
            "740\n",
            "952\n",
            "837\n",
            "207\n",
            "18\n",
            "610\n",
            "422\n",
            "437\n",
            "293\n",
            "990\n",
            "192\n",
            "297\n",
            "715\n",
            "855\n",
            "956\n",
            "496\n",
            "993\n",
            "407\n",
            "936\n",
            "748\n",
            "24\n",
            "1011\n",
            "619\n",
            "112\n",
            "11\n",
            "904\n",
            "779\n",
            "704\n",
            "318\n",
            "934\n",
            "17\n",
            "958\n",
            "521\n",
            "623\n",
            "895\n",
            "554\n",
            "230\n",
            "985\n",
            "771\n",
            "18\n",
            "978\n",
            "407\n",
            "384\n",
            "521\n",
            "859\n",
            "465\n",
            "10\n",
            "867\n",
            "396\n",
            "843\n",
            "803\n",
            "591\n",
            "627\n",
            "9\n",
            "962\n",
            "441\n",
            "457\n",
            "8\n",
            "865\n",
            "477\n",
            "233\n",
            "960\n",
            "996\n",
            "488\n",
            "18\n",
            "837\n",
            "899\n",
            "787\n",
            "933\n",
            "217\n",
            "195\n",
            "1001\n",
            "926\n",
            "965\n",
            "598\n",
            "514\n",
            "998\n",
            "339\n",
            "9\n",
            "924\n",
            "546\n",
            "702\n",
            "7\n",
            "986\n",
            "448\n",
            "194\n"
          ]
        }
      ]
    },
    {
      "cell_type": "code",
      "execution_count": 14,
      "id": "184bb9dc",
      "metadata": {
        "id": "184bb9dc"
      },
      "outputs": [],
      "source": [
        "def load_chroma(chunks, collection_name, embedding_function):\n",
        "    chroma_cliet = chromadb.Client()\n",
        "    chroma_collection = chroma_cliet.create_collection(name=collection_name, embedding_function=embedding_function)\n",
        "\n",
        "    ids = [str(i) for i in range(len(chunks))]\n",
        "\n",
        "    chroma_collection.add(ids=ids, documents=chunks)\n",
        "\n",
        "    return chroma_collection"
      ]
    },
    {
      "cell_type": "code",
      "execution_count": 15,
      "id": "e461fac8",
      "metadata": {
        "id": "e461fac8"
      },
      "outputs": [],
      "source": [
        "def word_wrap(string, n_chars=72):\n",
        "    # Wrap a string at the next space after n_chars\n",
        "    if len(string) < n_chars:\n",
        "        return string\n",
        "    else:\n",
        "        return string[:n_chars].rsplit(' ', 1)[0] + '\\n' + word_wrap(string[len(string[:n_chars].rsplit(' ', 1)[0])+1:], n_chars)"
      ]
    },
    {
      "cell_type": "code",
      "source": [
        "collection_name = 'medical-data'\n",
        "embedding_function = SentenceTransformerEmbeddingFunction()\n",
        "chroma_collection = load_chroma(sample_chunks, collection_name, embedding_function)"
      ],
      "metadata": {
        "collapsed": true,
        "id": "lnPZNb7sfMES"
      },
      "id": "lnPZNb7sfMES",
      "execution_count": 16,
      "outputs": []
    },
    {
      "cell_type": "code",
      "source": [
        "#chroma_cliet.delete_collection(name=collection_name)\n",
        "chroma_collection.count()"
      ],
      "metadata": {
        "colab": {
          "base_uri": "https://localhost:8080/"
        },
        "id": "8YulEj8Jf2JX",
        "outputId": "72f560df-e587-4400-d4a8-411b39186211"
      },
      "id": "8YulEj8Jf2JX",
      "execution_count": 17,
      "outputs": [
        {
          "output_type": "execute_result",
          "data": {
            "text/plain": [
              "315"
            ]
          },
          "metadata": {},
          "execution_count": 17
        }
      ]
    },
    {
      "cell_type": "code",
      "source": [
        "similar_docs = chroma_collection.query(query_texts = \"dizziness, tiredness, vomiting and confusion\",\n",
        "                        n_results=5, include=['documents', 'embeddings','metadatas'])"
      ],
      "metadata": {
        "id": "YFoaRUe9gI7l"
      },
      "id": "YFoaRUe9gI7l",
      "execution_count": 18,
      "outputs": []
    },
    {
      "cell_type": "code",
      "source": [
        "retrieved_documents = similar_docs['documents'][0]\n",
        "\n",
        "for doc in retrieved_documents:\n",
        "    print(word_wrap(doc))\n",
        "    print('')"
      ],
      "metadata": {
        "colab": {
          "base_uri": "https://localhost:8080/"
        },
        "id": "QPon2ePXg-EV",
        "outputId": "9d61a669-4b9b-4a35-ef64-03e2b031b637",
        "collapsed": true
      },
      "id": "QPon2ePXg-EV",
      "execution_count": 19,
      "outputs": [
        {
          "output_type": "stream",
          "name": "stdout",
          "text": [
            "pulmonary edema ( fluid in the lungs ) symptoms similar to bronchitis\n",
            "persistent dry cough fever shortness of breath even when\n",
            "restingcerebral edema ( swelling of the brain ) headache that does not\n",
            "respond to analgesics unsteady gait gradual loss of consciousness\n",
            "increased nausea and vomiting\n",
            "\n",
            "altitude sickness, the mildest form being acute mountain sickness ( ams\n",
            "), is the harmful effect of high altitude, caused by rapid exposure to\n",
            "low amounts of oxygen at high elevation. people can respond to high\n",
            "altitude in different ways. symptoms may include headaches, vomiting,\n",
            "tiredness, confusion, trouble sleeping, and dizziness. acute mountain\n",
            "sickness can progress to high - altitude pulmonary edema ( hape ) with\n",
            "associated shortness of breath or high - altitude cerebral edema ( hace\n",
            ") with associated confusion. chronic mountain sickness may occur after\n",
            "long - term exposure to high altitude. altitude sickness typically\n",
            "occurs only above 2, 500 metres ( 8, 000 ft ), though some are affected\n",
            "at lower altitudes. risk factors include a prior episode of altitude\n",
            "sickness, a high degree of activity, and a rapid increase in elevation.\n",
            "diagnosis is based on symptoms and is supported in those who have more\n",
            "than a minor reduction in activities\n",
            "\n",
            "signs and symptoms\n",
            "\n",
            "signs and symptoms\n",
            "\n",
            "signs and symptoms\n",
            "\n"
          ]
        }
      ]
    },
    {
      "cell_type": "markdown",
      "source": [
        "# Analyse Retrieved documents"
      ],
      "metadata": {
        "id": "SL6vUkOJI0LD"
      },
      "id": "SL6vUkOJI0LD"
    },
    {
      "cell_type": "markdown",
      "source": [
        "Take a close look at the retrieved documents, even though all the symptoms match closely with \"Altitude Sickness\", the top match result is \"Pulmonary Edema\". Let's look at similarity scores to see why this happens."
      ],
      "metadata": {
        "id": "Ehd6xirGh16t"
      },
      "id": "Ehd6xirGh16t"
    },
    {
      "cell_type": "code",
      "source": [
        "from sentence_transformers import SentenceTransformer\n",
        "from sklearn.metrics.pairwise import cosine_similarity\n",
        "import numpy as np\n",
        "\n",
        "model = SentenceTransformer('paraphrase-MiniLM-L6-v2')\n",
        "\n",
        "def get_text_embeddings(texts):\n",
        "    embeddings = model.encode(texts)\n",
        "    return embeddings\n",
        "\n",
        "def compute_cosine_similarity(embedding_a, embedding_b):\n",
        "    similarity = cosine_similarity([embedding_a], [embedding_b])[0][0]\n",
        "    return similarity\n",
        "\n",
        "query = \"dizziness, tiredness, vomiting and confusion\"\n",
        "text_1 = retrieved_documents[0] # pulmonary edema\n",
        "text_2 = retrieved_documents[1] # altitude sickness\n",
        "\n",
        "embeddings = get_text_embeddings([query, text_1, text_2])\n",
        "\n",
        "similarity_1 = compute_cosine_similarity(embeddings[0], embeddings[1])\n",
        "similarity_2 = compute_cosine_similarity(embeddings[0], embeddings[2])\n",
        "\n",
        "print(f\"Cosine Similarity : {similarity_1} for pulmonary edema\")\n",
        "print(f\"Cosine Similarity : {similarity_2} for altitude sickness\")\n"
      ],
      "metadata": {
        "colab": {
          "base_uri": "https://localhost:8080/"
        },
        "id": "Q6Rzfi-4jIXV",
        "outputId": "6524b7bc-146a-49f9-f812-927926f2c0c0",
        "collapsed": true
      },
      "id": "Q6Rzfi-4jIXV",
      "execution_count": 20,
      "outputs": [
        {
          "output_type": "stream",
          "name": "stdout",
          "text": [
            "Cosine Similarity : 0.5803083181381226 for pulmonary edema\n",
            "Cosine Similarity : 0.5016669631004333 for altitude sickness\n"
          ]
        }
      ]
    },
    {
      "cell_type": "markdown",
      "source": [
        "# Impact of Length of Chunk"
      ],
      "metadata": {
        "id": "m13mjCGbeQ_b"
      },
      "id": "m13mjCGbeQ_b"
    },
    {
      "cell_type": "markdown",
      "source": [
        "The similarity score for 'altitude sickness' with the query is low, which might be why it isn't appearing as the top match. What could be causing the low similarity score? Does the length of the text play a role in this?"
      ],
      "metadata": {
        "id": "FHw6VqFKkATE"
      },
      "id": "FHw6VqFKkATE"
    },
    {
      "cell_type": "code",
      "source": [
        "print(len(text_1), len(text_2))\n",
        "# make 2 chunks equal in length with query terms being retained in text_2 after chunking.\n",
        "text_21 = text_2[:335]\n",
        "\n",
        "embeddings = get_text_embeddings([query, text_1, text_21])\n",
        "\n",
        "similarity_1 = compute_cosine_similarity(embeddings[0], embeddings[1])\n",
        "similarity_2 = compute_cosine_similarity(embeddings[0], embeddings[2])\n",
        "\n",
        "print(f\"Cosine Similarity : {similarity_1} for pulmonary edema\")\n",
        "print(f\"Cosine Similarity : {similarity_2} for altitude sickness\")"
      ],
      "metadata": {
        "colab": {
          "base_uri": "https://localhost:8080/"
        },
        "id": "1mnlFb0sktdV",
        "outputId": "92874d84-35ec-467a-dab9-13c437c95370"
      },
      "id": "1mnlFb0sktdV",
      "execution_count": 21,
      "outputs": [
        {
          "output_type": "stream",
          "name": "stdout",
          "text": [
            "293 952\n",
            "Cosine Similarity : 0.5803083181381226 for pulmonary edema\n",
            "Cosine Similarity : 0.5235142707824707 for altitude sickness\n"
          ]
        }
      ]
    },
    {
      "cell_type": "markdown",
      "source": [
        "# Lost in Middle"
      ],
      "metadata": {
        "id": "l9-TflHOeTqF"
      },
      "id": "l9-TflHOeTqF"
    },
    {
      "cell_type": "markdown",
      "source": [
        "The similarity score slightly increased but not significant enough even after chunking the texts to be of same length. Does placement of information effects the embedding and thus similairity?"
      ],
      "metadata": {
        "id": "1X-wYYJ0n2cm"
      },
      "id": "1X-wYYJ0n2cm"
    },
    {
      "cell_type": "code",
      "source": [
        "# Place the query similar words apeearing in both the texts at the same position.\n",
        "text_21 = text_2[240:500]\n",
        "\n",
        "embeddings = get_text_embeddings([query, text_1, text_21])\n",
        "\n",
        "similarity_1 = compute_cosine_similarity(embeddings[0], embeddings[1])\n",
        "similarity_2 = compute_cosine_similarity(embeddings[0], embeddings[2])\n",
        "\n",
        "print(f\"Cosine Similarity : {similarity_1} for pulmonary edema\")\n",
        "print(f\"Cosine Similarity : {similarity_2} for altitude sickness\")"
      ],
      "metadata": {
        "colab": {
          "base_uri": "https://localhost:8080/"
        },
        "id": "Ok29WNmRoykj",
        "outputId": "4fd04cda-87be-4d68-db45-5b76ec293253"
      },
      "id": "Ok29WNmRoykj",
      "execution_count": 22,
      "outputs": [
        {
          "output_type": "stream",
          "name": "stdout",
          "text": [
            "Cosine Similarity : 0.5803083181381226 for pulmonary edema\n",
            "Cosine Similarity : 0.6456915736198425 for altitude sickness\n"
          ]
        }
      ]
    },
    {
      "cell_type": "markdown",
      "source": [
        "**When the information similar to query appears in the initial parts of sentence that text seems to gain more similarity score than the text with the same information placed elsewhere.**"
      ],
      "metadata": {
        "id": "hogBwHTS9tXb"
      },
      "id": "hogBwHTS9tXb"
    },
    {
      "cell_type": "markdown",
      "source": [
        "# Handling length by merging chunks"
      ],
      "metadata": {
        "id": "BGlHIBgB-Zp0"
      },
      "id": "BGlHIBgB-Zp0"
    },
    {
      "cell_type": "code",
      "source": [
        "def merge_chunk_texts(texts):\n",
        "    \"\"\"Chunk texts to ensure that all the chunks are relatively of the same length for better embeddings.\"\"\"\n",
        "    character_splitter = RecursiveCharacterTextSplitter(\n",
        "        separators=[\"\\n\\n\", \"\\n\", \". \", \" \", \"\"],\n",
        "        chunk_size=1000,\n",
        "        chunk_overlap=0\n",
        "    )\n",
        "    character_split_texts = character_splitter.split_text('\\n\\n'.join(texts))\n",
        "    character_split_texts_new = []\n",
        "\n",
        "    i = 0\n",
        "    max_ij = len(character_split_texts)\n",
        "\n",
        "    while i < max_ij:\n",
        "        current_chunk = character_split_texts[i]\n",
        "        i += 1\n",
        "\n",
        "        while i < max_ij and len(current_chunk + character_split_texts[i]) < 1000:\n",
        "            current_chunk += character_split_texts[i]\n",
        "            i += 1\n",
        "\n",
        "        character_split_texts_new.append(current_chunk)\n",
        "\n",
        "    token_splitter = SentenceTransformersTokenTextSplitter(chunk_overlap=0, tokens_per_chunk=256)\n",
        "\n",
        "    token_split_texts = []\n",
        "    for text in character_split_texts_new:\n",
        "        token_split_texts += token_splitter.split_text(text)\n",
        "\n",
        "    return token_split_texts\n"
      ],
      "metadata": {
        "id": "5_m7-dUZBByF"
      },
      "id": "5_m7-dUZBByF",
      "execution_count": 23,
      "outputs": []
    },
    {
      "cell_type": "code",
      "source": [
        "eql_chunks = merge_chunk_texts(texts)\n",
        "for c in eql_chunks:\n",
        "    print(len(c))"
      ],
      "metadata": {
        "colab": {
          "base_uri": "https://localhost:8080/"
        },
        "collapsed": true,
        "id": "DZhlMOow-ib0",
        "outputId": "7a4614f7-a55c-45d2-db5d-8f798fc7ca11"
      },
      "id": "DZhlMOow-ib0",
      "execution_count": 24,
      "outputs": [
        {
          "output_type": "stream",
          "name": "stderr",
          "text": [
            "/usr/local/lib/python3.10/dist-packages/transformers/tokenization_utils_base.py:1601: FutureWarning: `clean_up_tokenization_spaces` was not set. It will be set to `True` by default. This behavior will be depracted in transformers v4.45, and will be then set to `False` by default. For more details check this issue: https://github.com/huggingface/transformers/issues/31884\n",
            "  warnings.warn(\n"
          ]
        },
        {
          "output_type": "stream",
          "name": "stdout",
          "text": [
            "902\n",
            "969\n",
            "529\n",
            "872\n",
            "901\n",
            "966\n",
            "726\n",
            "675\n",
            "453\n",
            "889\n",
            "331\n",
            "809\n",
            "637\n",
            "719\n",
            "988\n",
            "552\n",
            "672\n",
            "982\n",
            "25\n",
            "866\n",
            "888\n",
            "453\n",
            "801\n",
            "925\n",
            "997\n",
            "1008\n",
            "881\n",
            "950\n",
            "1010\n",
            "817\n",
            "684\n",
            "910\n",
            "1001\n",
            "961\n",
            "429\n",
            "899\n",
            "894\n",
            "960\n",
            "945\n",
            "381\n",
            "844\n",
            "178\n",
            "953\n",
            "485\n",
            "971\n",
            "626\n",
            "823\n",
            "775\n",
            "478\n",
            "694\n",
            "621\n",
            "412\n",
            "979\n",
            "122\n",
            "977\n",
            "915\n",
            "643\n",
            "939\n",
            "931\n",
            "752\n",
            "768\n",
            "432\n",
            "944\n",
            "541\n",
            "830\n",
            "428\n",
            "1011\n",
            "423\n",
            "783\n",
            "901\n",
            "546\n",
            "1014\n",
            "848\n",
            "731\n",
            "871\n",
            "448\n",
            "920\n",
            "766\n",
            "884\n",
            "906\n",
            "529\n",
            "1012\n",
            "833\n",
            "689\n",
            "800\n",
            "816\n",
            "685\n",
            "936\n",
            "955\n",
            "596\n",
            "1004\n",
            "1005\n",
            "705\n",
            "590\n",
            "848\n",
            "528\n",
            "587\n",
            "882\n",
            "182\n",
            "855\n",
            "685\n",
            "373\n",
            "926\n",
            "769\n",
            "783\n",
            "696\n",
            "728\n",
            "728\n",
            "877\n",
            "828\n",
            "823\n",
            "928\n",
            "827\n",
            "425\n",
            "824\n",
            "983\n",
            "658\n",
            "599\n",
            "544\n",
            "567\n",
            "584\n",
            "773\n",
            "919\n",
            "880\n",
            "506\n",
            "949\n",
            "173\n",
            "860\n",
            "538\n",
            "970\n",
            "420\n",
            "718\n",
            "471\n",
            "943\n",
            "920\n",
            "847\n",
            "918\n",
            "984\n",
            "754\n",
            "718\n",
            "406\n",
            "799\n",
            "393\n",
            "674\n",
            "981\n",
            "921\n",
            "1003\n",
            "467\n",
            "929\n",
            "308\n",
            "900\n",
            "538\n",
            "976\n",
            "546\n",
            "966\n",
            "929\n",
            "760\n",
            "804\n",
            "394\n",
            "768\n",
            "915\n",
            "429\n",
            "606\n",
            "976\n",
            "946\n",
            "678\n",
            "633\n",
            "994\n",
            "914\n",
            "510\n",
            "951\n",
            "940\n",
            "949\n",
            "841\n",
            "959\n",
            "881\n",
            "582\n",
            "960\n",
            "141\n",
            "971\n",
            "740\n",
            "952\n",
            "837\n",
            "836\n",
            "860\n",
            "293\n",
            "990\n",
            "490\n",
            "715\n",
            "855\n",
            "956\n",
            "496\n",
            "993\n",
            "407\n",
            "936\n",
            "773\n",
            "1011\n",
            "744\n",
            "904\n",
            "779\n",
            "704\n",
            "318\n",
            "952\n",
            "958\n",
            "521\n",
            "623\n",
            "895\n",
            "785\n",
            "985\n",
            "790\n",
            "978\n",
            "792\n",
            "521\n",
            "859\n",
            "476\n",
            "867\n",
            "396\n",
            "843\n",
            "803\n",
            "591\n",
            "637\n",
            "962\n",
            "908\n",
            "865\n",
            "711\n",
            "960\n",
            "996\n",
            "507\n",
            "837\n",
            "899\n",
            "787\n",
            "933\n",
            "413\n",
            "1001\n",
            "926\n",
            "965\n",
            "598\n",
            "514\n",
            "998\n",
            "349\n",
            "924\n",
            "546\n",
            "710\n",
            "986\n",
            "643\n"
          ]
        }
      ]
    },
    {
      "cell_type": "markdown",
      "source": [
        "To optimize both retrieval accuracy and generation quality in a Retrieval-Augmented Generation (RAG) system, we balance chunk size and contextual linking:\n",
        "\n",
        "1. **For Retrieval:** Smaller text chunks improve retrieval relevance because shorter segments lead to higher similarity scores, ensuring that the retriever fetches precise and relevant information.\n",
        "  \n",
        "2. **For Generation:** Large language models (LLMs) benefit from more extensive context. To support this, we add the indices of adjacent (previous and next) chunks to each chunk's metadata. This linking allows the retriever to return neighboring chunks alongside the primary result, enriching the context provided to the generator without requiring additional embeddings.\n",
        "\n",
        "3. **Customizable Nearest Neighbor Retrieval:** The number of neighboring chunks retrieved can be customized based on the data domain and the retrieval needs. This flexibility supports better contextual understanding and improved generation outcomes across varied applications.\n",
        "\n",
        "This approach ensures high-quality retrieval for the retriever and enhanced context for the generator, optimizing the performance of RAG systems across different use cases."
      ],
      "metadata": {
        "id": "iCUzYCnTBzp9"
      },
      "id": "iCUzYCnTBzp9"
    },
    {
      "cell_type": "markdown",
      "source": [
        "# Metadata for Sentence Window Retrieval"
      ],
      "metadata": {
        "id": "MpImuHNWIOpX"
      },
      "id": "MpImuHNWIOpX"
    },
    {
      "cell_type": "code",
      "source": [
        "def load_chroma_with_metadata(chunks, collection_name, embedding_function, n=1):\n",
        "    \"\"\"\n",
        "    Load chunks into a Chroma collection with metadata that includes up to `n` nearest neighbors for each chunk.\n",
        "\n",
        "    Parameters:\n",
        "    - chunks: List of text chunks to be added to the collection.\n",
        "    - collection_name: Name of the Chroma collection.\n",
        "    - embedding_function: Embedding function to be used.\n",
        "    - n: Number of neighbors to include in the metadata (default is 1).\n",
        "    \"\"\"\n",
        "    chroma_client = chromadb.Client()\n",
        "    chroma_collection = chroma_client.create_collection(name=collection_name, embedding_function=embedding_function)\n",
        "\n",
        "    ids = [str(i) for i in range(len(chunks))]\n",
        "    metadatas = []\n",
        "\n",
        "    for i in range(len(chunks)):\n",
        "        neighbors = [j for j in range(max(0, i - n), min(len(chunks), i + n + 1)) if j != i]\n",
        "        neighbor_metadata = \"_\".join(map(str, neighbors))\n",
        "        metadatas.append({str(i): neighbor_metadata})\n",
        "\n",
        "    chroma_collection.add(ids=ids, documents=chunks, metadatas=metadatas)\n",
        "\n",
        "    return chroma_collection\n"
      ],
      "metadata": {
        "id": "Po1ZowAqLdNa"
      },
      "id": "Po1ZowAqLdNa",
      "execution_count": 36,
      "outputs": []
    },
    {
      "cell_type": "code",
      "source": [
        "chroma_cliet = chromadb.Client()\n",
        "collection_name = 'medical-data-metadata'\n",
        "embedding_function = SentenceTransformerEmbeddingFunction()\n",
        "chroma_collection_metadata = load_chroma_with_metadata(eql_chunks, collection_name, embedding_function)"
      ],
      "metadata": {
        "id": "PYOio3HRIVv5"
      },
      "id": "PYOio3HRIVv5",
      "execution_count": 38,
      "outputs": []
    },
    {
      "cell_type": "code",
      "source": [
        "#chroma_cliet.delete_collection(name=collection_name)\n",
        "chroma_collection_metadata.count()"
      ],
      "metadata": {
        "colab": {
          "base_uri": "https://localhost:8080/"
        },
        "id": "1qPgw_1AIhbg",
        "outputId": "fdaa55ff-1d6d-4186-e0a4-0de955030868"
      },
      "id": "1qPgw_1AIhbg",
      "execution_count": 39,
      "outputs": [
        {
          "output_type": "execute_result",
          "data": {
            "text/plain": [
              "245"
            ]
          },
          "metadata": {},
          "execution_count": 39
        }
      ]
    },
    {
      "cell_type": "code",
      "source": [
        "similar_metadata_docs = chroma_collection_metadata.query(query_texts = \"dizziness, tiredness, vomiting and confusion\",\n",
        "                        n_results=5, include=['documents', 'embeddings','metadatas'])"
      ],
      "metadata": {
        "id": "kL8CInaRIhYR"
      },
      "id": "kL8CInaRIhYR",
      "execution_count": 40,
      "outputs": []
    },
    {
      "cell_type": "code",
      "source": [
        "retrieved_metadata_documents = similar_metadata_docs['documents'][0]\n",
        "\n",
        "for doc in retrieved_metadata_documents:\n",
        "    print(word_wrap(doc))\n",
        "    print('')"
      ],
      "metadata": {
        "colab": {
          "base_uri": "https://localhost:8080/"
        },
        "collapsed": true,
        "id": "twHf8wB_Int4",
        "outputId": "a005a00c-2483-4c44-a7d1-e425f4911c60"
      },
      "id": "twHf8wB_Int4",
      "execution_count": 41,
      "outputs": [
        {
          "output_type": "stream",
          "name": "stdout",
          "text": [
            "pulmonary edema ( fluid in the lungs ) symptoms similar to bronchitis\n",
            "persistent dry cough fever shortness of breath even when\n",
            "restingcerebral edema ( swelling of the brain ) headache that does not\n",
            "respond to analgesics unsteady gait gradual loss of consciousness\n",
            "increased nausea and vomiting\n",
            "\n",
            "altitude sickness, the mildest form being acute mountain sickness ( ams\n",
            "), is the harmful effect of high altitude, caused by rapid exposure to\n",
            "low amounts of oxygen at high elevation. people can respond to high\n",
            "altitude in different ways. symptoms may include headaches, vomiting,\n",
            "tiredness, confusion, trouble sleeping, and dizziness. acute mountain\n",
            "sickness can progress to high - altitude pulmonary edema ( hape ) with\n",
            "associated shortness of breath or high - altitude cerebral edema ( hace\n",
            ") with associated confusion. chronic mountain sickness may occur after\n",
            "long - term exposure to high altitude. altitude sickness typically\n",
            "occurs only above 2, 500 metres ( 8, 000 ft ), though some are affected\n",
            "at lower altitudes. risk factors include a prior episode of altitude\n",
            "sickness, a high degree of activity, and a rapid increase in elevation.\n",
            "diagnosis is based on symptoms and is supported in those who have more\n",
            "than a minor reduction in activities\n",
            "\n",
            ". exertion may aggravate the symptoms. those individuals with the\n",
            "lowest initial partial pressure of end - tidal pco2 ( the lowest\n",
            "concentration of carbon dioxide at the end of the respiratory cycle, a\n",
            "measure of a higher alveolar ventilation ) and corresponding high\n",
            "oxygen saturation levels tend to have a lower incidence of acute\n",
            "mountain sickness than those with high end - tidal pco2 and low oxygen\n",
            "saturation levels. primary symptoms headaches are the primary symptom\n",
            "used to diagnose altitude sickness, although a headache is also a\n",
            "symptom of dehydration. a headache occurring at an altitude above 2,\n",
            "400 metres ( 7, 900 ft ) – a pressure of 76 kilopascals ( 0. 75 atm ) –\n",
            "combined with any one or more of the following symptoms, may indicate\n",
            "altitude sickness : severe symptoms symptoms that may indicate life -\n",
            "threatening altitude sickness include :\n",
            "\n",
            ". symptoms include fatigue, severe dyspnea at rest, and cough that is\n",
            "initially dry but may progress to produce pink, frothy sputum. descent\n",
            "to lower altitudes alleviates the symptoms of hape. hace is a life -\n",
            "threatening condition that can lead to coma or death. symptoms include\n",
            "headache, fatigue, visual impairment, bladder dysfunction, bowel\n",
            "dysfunction, loss of coordination, paralysis on one side of the body,\n",
            "and confusion. descent to lower altitudes may save those affected by\n",
            "hace.\n",
            "\n",
            "diagnosis altitude sickness is typically self - diagnosed since\n",
            "symptoms are consistent : nausea, vomiting, headache, and can generally\n",
            "be deduced from a rapid change in altitude or oxygen levels. however,\n",
            "some symptoms may be confused with dehydration. some severe cases may\n",
            "require professional diagnosis which can be assisted with multiple\n",
            "different methods such as using an mri or ct scan to check for abnormal\n",
            "buildup of fluids in the lung or brain. prevention ascending slowly is\n",
            "the best way to avoid altitude sickness. avoiding strenuous activity\n",
            "such as skiing, hiking, etc. in the first 24 hours at high altitude may\n",
            "reduce the symptoms of ams. alcohol and sleeping pills are respiratory\n",
            "depressants, and thus slow down the acclimatization process and should\n",
            "be avoided. alcohol also tends to cause dehydration and exacerbates\n",
            "ams. thus, avoiding alcohol consumption in the first 24 – 48 hours at a\n",
            "higher altitude is optimal.\n",
            "\n"
          ]
        }
      ]
    },
    {
      "cell_type": "code",
      "execution_count": 32,
      "id": "dfac6017",
      "metadata": {
        "id": "dfac6017"
      },
      "outputs": [],
      "source": [
        "# def project_embeddings(embeddings, umap_transform):\n",
        "#     umap_embeddings = np.empty((len(embeddings),2))\n",
        "#     for i, embedding in enumerate(tqdm(embeddings)):\n",
        "#         umap_embeddings[i] = umap_transform.transform([embedding])\n",
        "#     return umap_embeddings"
      ]
    },
    {
      "cell_type": "code",
      "execution_count": 33,
      "id": "a338ec83-6301-41a5-9ab1-e5d583306a3f",
      "metadata": {
        "id": "a338ec83-6301-41a5-9ab1-e5d583306a3f"
      },
      "outputs": [],
      "source": [
        "import os\n",
        "from groq import Groq\n",
        "os.environ[\"GROQ_API_KEY\"] = \"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\" # set this to your own GROQ API key\n",
        "\n",
        "groq_api_key = os.getenv('GROQ_API_KEY')\n",
        "client = Groq(api_key = groq_api_key)"
      ]
    },
    {
      "cell_type": "code",
      "source": [
        "#chroma_collection.get(ids='184')"
      ],
      "metadata": {
        "id": "68ORmNsFDXRC",
        "collapsed": true
      },
      "id": "68ORmNsFDXRC",
      "execution_count": 34,
      "outputs": []
    },
    {
      "cell_type": "code",
      "execution_count": 35,
      "id": "888a86f8-2fe2-4682-bdaf-c15129ed1a32",
      "metadata": {
        "id": "888a86f8-2fe2-4682-bdaf-c15129ed1a32",
        "collapsed": true
      },
      "outputs": [],
      "source": [
        "# import umap\n",
        "# embeddings = chroma_collection.get(include=['embeddings'])['embeddings']\n",
        "# umap_transform = umap.UMAP(random_state=0, transform_seed=0).fit(embeddings)\n",
        "# projected_dataset_embeddings = project_embeddings(embeddings, umap_transform)"
      ]
    },
    {
      "cell_type": "markdown",
      "source": [
        "# Query Classification"
      ],
      "metadata": {
        "id": "7cyWxl_ynEPo"
      },
      "id": "7cyWxl_ynEPo"
    },
    {
      "cell_type": "code",
      "source": [
        "model = \"mixtral-8x7b-32768\"\n",
        "def classify_query(query):\n",
        "    prompt = \"\"\"\n",
        "                You are a smart assistant. Classify whether the given information belongs to medical domain or not.\n",
        "                Respond with \"Yes\" if it belongs to medical domain else \"No\".\n",
        "    \"\"\"\n",
        "    messages = [\n",
        "        {\n",
        "            \"role\": \"system\",\n",
        "            \"content\": prompt\n",
        "        },\n",
        "        {   \"role\": \"user\",\n",
        "            \"content\": query}\n",
        "    ]\n",
        "\n",
        "    response = client.chat.completions.create(\n",
        "        model=model,\n",
        "        messages=messages,\n",
        "        max_tokens=20\n",
        "    )\n",
        "    content = response.choices[0].message.content\n",
        "    return content"
      ],
      "metadata": {
        "id": "O2hkrIzQnGvy"
      },
      "id": "O2hkrIzQnGvy",
      "execution_count": 42,
      "outputs": []
    },
    {
      "cell_type": "markdown",
      "source": [
        "# Generate Questions"
      ],
      "metadata": {
        "id": "5_lSO1-kupVc"
      },
      "id": "5_lSO1-kupVc"
    },
    {
      "cell_type": "code",
      "source": [
        "model = \"mixtral-8x7b-32768\"\n",
        "def generate_questions(topic_info):\n",
        "\n",
        "    messages = [\n",
        "        {\n",
        "            \"role\": \"system\",\n",
        "            \"content\": \"You are a helpful medical researcher.\"\n",
        "            \"Suggest five questions that can be asked from the information provided. \"\n",
        "            \"Suggest only short questions without compound sentences. Suggest a variety of questions that cover different aspects of the topic.\"\n",
        "            \"Make sure they are complete questions, and that they are related to the given information.\"\n",
        "        },\n",
        "        {\n",
        "            \"role\": \"user\",\n",
        "            \"content\": f\"Topic Information : {topic_info}\",\n",
        "        }\n",
        "    ]\n",
        "    response = client.chat.completions.create(\n",
        "        model= model,\n",
        "        messages=messages,\n",
        "        max_tokens=4096\n",
        "    )\n",
        "    response_message = response.choices[0].message\n",
        "\n",
        "    return response_message.content"
      ],
      "metadata": {
        "id": "iB5dmp3Gurqg"
      },
      "id": "iB5dmp3Gurqg",
      "execution_count": 43,
      "outputs": []
    },
    {
      "cell_type": "code",
      "source": [
        "topic_info = \"\"\"Anticholinergics (anticholinergic agents) are substances that block the action of the neurotransmitter called acetylcholine (ACh) at synapses in the central and peripheral nervous system.These agents inhibit the parasympathetic nervous system by selectively blocking the binding of ACh to its receptor in nerve cells. The nerve fibers of the parasympathetic system are responsible for the involuntary movement of smooth muscles present in the gastrointestinal tract, urinary tract, lungs, sweat glands, and many other parts of the body.In broad terms, anticholinergics are divided into two categories in accordance with their specific targets in the central and peripheral nervous system and at the neuromuscular junction: antimuscarinic agents, and antinicotinic agents (ganglionic blockers, neuromuscular blockers).The term \"anticholinergic\" is typically used to refer to antimuscarinics which competitively inhibit the binding of ACh to muscarinic acetylcholine receptors; such agents do not antagonize the binding at nicotinic acetylcholine receptors at the neuromuscular junction, although the term is sometimes used to refer to agents which do so. Medical uses Anticholinergic drugs are used to treat a variety of conditions: Dizziness (including vertigo and motion sickness-related symptoms) Extrapyramidal symptoms, a potential side-effect of antipsychotic medications Gastrointestinal disorders (e.g., peptic ulcers, diarrhea, pylorospasm, diverticulitis, ulcerative colitis, nausea, and vomiting) Genitourinary disorders (e.g., cystitis, urethritis, and prostatitis) Insomnia, although usually only on a short-term basis Respiratory disorders (e.g., asthma, chronic bronchitis, and chronic obstructive pulmonary disease [COPD]) Sinus bradycardia due to a hypersensitive vagus nerve Organophosphate based nerve agent poisoning, such as VX, sarin, tabun, and soman (atropine is favoured in conjunction with an oxime, usually pralidoxime)Anticholinergics generally have antisialagogue effects (decreasing saliva production), and most produce some level of sedation, both being advantageous in surgical procedures.Until the beginning of the 20th century anticholinergic drugs were widely used to treat psychiatric disorders. Physiological effects Delirium (often with hallucinations and delusions indistinguishable from reality) Ocular symptoms (from eye drops): mydriasis, pupil dilation, and acute angle-closure glaucoma in those with shallow anterior chamber Anhidrosis, dry mouth, dry skin Fever Constipation Tachycardia Urinary retention Cutaneous vasodilationClinically the most significant feature is delirium, particularly in the elderly, who are most likely to be affected by the toxidrome. Side effects Long-term use may increase the risk of both cognitive and physical decline. It is unclear whether they affect the risk of death generally. However, in older adults they do appear to increase the risk of death.Possible effects of anticholinergics include: Possible effects in the central nervous system resemble those associated with delirium, and may include: Older patients are at a higher risk of experiencing CNS side effects. Toxicity An acute anticholinergic syndrome is reversible and subsides once all of the causative agents have been excreted. Reversible acetylcholinesterase inhibitor agents such as physostigmine can be used as an antidote in life-threatening cases. Wider use is discouraged due to the significant side effects related to cholinergic excess including seizures, muscle weakness, bradycardia, bronchoconstriction, lacrimation, salivation, bronchorrhea, vomiting, and diarrhea. Even in documented cases of anticholinergic toxicity, seizures have been reported after the rapid administration of physostigmine. Asystole has occurred after physostigmine administration for tricyclic antidepressant overdose, so a conduction delay (QRS > 0.10 second) or suggestion of tricyclic antidepressant ingestion is generally considered a contraindication to physostigmine administration. Pharmacology Anticholinergics are classified according to the receptors that are affected: Antimuscarinic agents operate on the muscarinic acetylcholine receptors. The majority of anticholinergic drugs are antimuscarinics. Antinicotinic agents operate on the nicotinic acetylcholine receptors. The majority of these are non-depolarising skeletal muscle relaxants for surgical use that are structurally related to curare. Several are depolarizing agents. Examples Examples of common anticholinergics: Plants of the family Solanaceae contain various anticholinergic tropane alkaloids, such as scopolamine, atropine, and hyoscyamine. Physostigmine is one of only a few drugs that can be used as an antidote for anticholinergic poisoning. Nicotine also counteracts anticholinergics by activating nicotinic acetylcholine receptors. Caffeine (although an adenosine receptor antagonist) can counteract the anticholinergic symptoms by reducing sedation and increasing acetylcholine activity, thereby causing alertness and arousal. Psychoactive uses When a significant amount of an anticholinergic is taken into the body, a toxic reaction known as acute anticholinergic syndrome may result. This may happen accidentally or intentionally as a consequence of either recreational or entheogenic drug use, though many users find the side effects to be exceedingly unpleasant and not worth the recreational effects they experience. In the context of recreational use, anticholinergics are often called deliriants. Plant sources The most common plants containing anticholinergic alkaloids (including atropine, scopolamine, and hyoscyamine among others) are: Atropa belladonna (deadly nightshade) Brugmansia species Datura species Garrya species Hyoscyamus niger (henbane) Mandragora officinarum (mandrake) Use as a deterrent Several narcotic and opiate-containing drug preparations, such as those containing hydrocodone and codeine are combined with an anticholinergic agent to deter intentional misuse. Examples include Hydromet/Hycodan (hydrocodone/homatropine), Lomotil (diphenoxylate/atropine) and Tussionex (hydrocodone polistirex/chlorpheniramine). However, it is noted that opioid/antihistamine combinations are used clinically for their synergistic effect in the management of pain and maintenance of dissociative anesthesia (sedation) in such preparations as Meprozine (meperidine/promethazine) and Diconal (dipipanone/cyclizine), which act as strong anticholinergic agents. == References ==\n",
        "\"\"\""
      ],
      "metadata": {
        "id": "U5WdgHtbgrvW"
      },
      "id": "U5WdgHtbgrvW",
      "execution_count": 44,
      "outputs": []
    },
    {
      "cell_type": "code",
      "source": [
        "print(word_wrap(topic_info))"
      ],
      "metadata": {
        "colab": {
          "base_uri": "https://localhost:8080/"
        },
        "id": "AZgDSt1ZxBQ7",
        "outputId": "67bfe1e2-6b0d-42a0-d139-ce8b452bb92b",
        "collapsed": true
      },
      "id": "AZgDSt1ZxBQ7",
      "execution_count": 45,
      "outputs": [
        {
          "output_type": "stream",
          "name": "stdout",
          "text": [
            "Anticholinergics (anticholinergic agents) are substances that block the\n",
            "action of the neurotransmitter called acetylcholine (ACh) at synapses\n",
            "in the central and peripheral nervous system.These agents inhibit the\n",
            "parasympathetic nervous system by selectively blocking the binding of\n",
            "ACh to its receptor in nerve cells. The nerve fibers of the\n",
            "parasympathetic system are responsible for the involuntary movement of\n",
            "smooth muscles present in the gastrointestinal tract, urinary tract,\n",
            "lungs, sweat glands, and many other parts of the body.In broad terms,\n",
            "anticholinergics are divided into two categories in accordance with\n",
            "their specific targets in the central and peripheral nervous system and\n",
            "at the neuromuscular junction: antimuscarinic agents, and antinicotinic\n",
            "agents (ganglionic blockers, neuromuscular blockers).The term\n",
            "\"anticholinergic\" is typically used to refer to antimuscarinics which\n",
            "competitively inhibit the binding of ACh to muscarinic acetylcholine\n",
            "receptors; such agents do not antagonize the binding at nicotinic\n",
            "acetylcholine receptors at the neuromuscular junction, although the\n",
            "term is sometimes used to refer to agents which do so. Medical uses\n",
            "Anticholinergic drugs are used to treat a variety of conditions:\n",
            "Dizziness (including vertigo and motion sickness-related symptoms)\n",
            "Extrapyramidal symptoms, a potential side-effect of antipsychotic\n",
            "medications Gastrointestinal disorders (e.g., peptic ulcers, diarrhea,\n",
            "pylorospasm, diverticulitis, ulcerative colitis, nausea, and vomiting)\n",
            "Genitourinary disorders (e.g., cystitis, urethritis, and prostatitis)\n",
            "Insomnia, although usually only on a short-term basis Respiratory\n",
            "disorders (e.g., asthma, chronic bronchitis, and chronic obstructive\n",
            "pulmonary disease [COPD]) Sinus bradycardia due to a hypersensitive\n",
            "vagus nerve Organophosphate based nerve agent poisoning, such as VX,\n",
            "sarin, tabun, and soman (atropine is favoured in conjunction with an\n",
            "oxime, usually pralidoxime)Anticholinergics generally have\n",
            "antisialagogue effects (decreasing saliva production), and most produce\n",
            "some level of sedation, both being advantageous in surgical\n",
            "procedures.Until the beginning of the 20th century anticholinergic\n",
            "drugs were widely used to treat psychiatric disorders. Physiological\n",
            "effects Delirium (often with hallucinations and delusions\n",
            "indistinguishable from reality) Ocular symptoms (from eye drops):\n",
            "mydriasis, pupil dilation, and acute angle-closure glaucoma in those\n",
            "with shallow anterior chamber Anhidrosis, dry mouth, dry skin Fever\n",
            "Constipation Tachycardia Urinary retention Cutaneous\n",
            "vasodilationClinically the most significant feature is delirium,\n",
            "particularly in the elderly, who are most likely to be affected by the\n",
            "toxidrome. Side effects Long-term use may increase the risk of both\n",
            "cognitive and physical decline. It is unclear whether they affect the\n",
            "risk of death generally. However, in older adults they do appear to\n",
            "increase the risk of death.Possible effects of anticholinergics\n",
            "include: Possible effects in the central nervous system resemble those\n",
            "associated with delirium, and may include: Older patients are at a\n",
            "higher risk of experiencing CNS side effects. Toxicity An acute\n",
            "anticholinergic syndrome is reversible and subsides once all of the\n",
            "causative agents have been excreted. Reversible acetylcholinesterase\n",
            "inhibitor agents such as physostigmine can be used as an antidote in\n",
            "life-threatening cases. Wider use is discouraged due to the significant\n",
            "side effects related to cholinergic excess including seizures, muscle\n",
            "weakness, bradycardia, bronchoconstriction, lacrimation, salivation,\n",
            "bronchorrhea, vomiting, and diarrhea. Even in documented cases of\n",
            "anticholinergic toxicity, seizures have been reported after the rapid\n",
            "administration of physostigmine. Asystole has occurred after\n",
            "physostigmine administration for tricyclic antidepressant overdose, so\n",
            "a conduction delay (QRS > 0.10 second) or suggestion of tricyclic\n",
            "antidepressant ingestion is generally considered a contraindication to\n",
            "physostigmine administration. Pharmacology Anticholinergics are\n",
            "classified according to the receptors that are affected: Antimuscarinic\n",
            "agents operate on the muscarinic acetylcholine receptors. The majority\n",
            "of anticholinergic drugs are antimuscarinics. Antinicotinic agents\n",
            "operate on the nicotinic acetylcholine receptors. The majority of these\n",
            "are non-depolarising skeletal muscle relaxants for surgical use that\n",
            "are structurally related to curare. Several are depolarizing agents.\n",
            "Examples Examples of common anticholinergics: Plants of the family\n",
            "Solanaceae contain various anticholinergic tropane alkaloids, such as\n",
            "scopolamine, atropine, and hyoscyamine. Physostigmine is one of only a\n",
            "few drugs that can be used as an antidote for anticholinergic\n",
            "poisoning. Nicotine also counteracts anticholinergics by activating\n",
            "nicotinic acetylcholine receptors. Caffeine (although an adenosine\n",
            "receptor antagonist) can counteract the anticholinergic symptoms by\n",
            "reducing sedation and increasing acetylcholine activity, thereby\n",
            "causing alertness and arousal. Psychoactive uses When a significant\n",
            "amount of an anticholinergic is taken into the body, a toxic reaction\n",
            "known as acute anticholinergic syndrome may result. This may happen\n",
            "accidentally or intentionally as a consequence of either recreational\n",
            "or entheogenic drug use, though many users find the side effects to be\n",
            "exceedingly unpleasant and not worth the recreational effects they\n",
            "experience. In the context of recreational use, anticholinergics are\n",
            "often called deliriants. Plant sources The most common plants\n",
            "containing anticholinergic alkaloids (including atropine, scopolamine,\n",
            "and hyoscyamine among others) are: Atropa belladonna (deadly\n",
            "nightshade) Brugmansia species Datura species Garrya species Hyoscyamus\n",
            "niger (henbane) Mandragora officinarum (mandrake) Use as a deterrent\n",
            "Several narcotic and opiate-containing drug preparations, such as those\n",
            "containing hydrocodone and codeine are combined with an anticholinergic\n",
            "agent to deter intentional misuse. Examples include Hydromet/Hycodan\n",
            "(hydrocodone/homatropine), Lomotil (diphenoxylate/atropine) and\n",
            "Tussionex (hydrocodone polistirex/chlorpheniramine). However, it is\n",
            "noted that opioid/antihistamine combinations are used clinically for\n",
            "their synergistic effect in the management of pain and maintenance of\n",
            "dissociative anesthesia (sedation) in such preparations as Meprozine\n",
            "(meperidine/promethazine) and Diconal (dipipanone/cyclizine), which act\n",
            "as strong anticholinergic agents. == References ==\n",
            "\n"
          ]
        }
      ]
    },
    {
      "cell_type": "code",
      "source": [
        "print(word_wrap(generate_questions(topic_info)))"
      ],
      "metadata": {
        "colab": {
          "base_uri": "https://localhost:8080/"
        },
        "id": "MHTVcHtvwvE0",
        "outputId": "edcabaf8-08ac-4b1b-88e1-7cc476b17394"
      },
      "id": "MHTVcHtvwvE0",
      "execution_count": 46,
      "outputs": [
        {
          "output_type": "stream",
          "name": "stdout",
          "text": [
            "1. What is the primary neurotransmitter that anticholinergics block in\n",
            "the nervous system?\n",
            "2. How do anticholinergics influence the\n",
            "parasympathetic nervous system?\n",
            "3. What are the two main categories of\n",
            "anticholinergics based on their specific targets?\n",
            "4. In which medical\n",
            "conditions are anticholinergics commonly used to treat?\n",
            "5. What is the\n",
            "primary side effect of anticholinergics that is clinically significant,\n",
            "particularly in the elderly?\n"
          ]
        }
      ]
    },
    {
      "cell_type": "markdown",
      "id": "YNkSrNCdCMOh",
      "metadata": {
        "id": "YNkSrNCdCMOh"
      },
      "source": [
        "# Testing Repsonses"
      ]
    },
    {
      "cell_type": "code",
      "execution_count": 47,
      "id": "ungSeNgKG9N_",
      "metadata": {
        "id": "ungSeNgKG9N_"
      },
      "outputs": [],
      "source": [
        "model = \"mixtral-8x7b-32768\"\n",
        "def generate_response(query,relevant_info):\n",
        "    relevant_info = '\\n\\n---------------------------------\\n\\n'.join(relevant_info)\n",
        "    prompt = \"\"\"\n",
        "                You are a reliable Medical Advisor. Answer patients' queries\n",
        "                using only the provided information. Follow these rules:\n",
        "\n",
        "                - Use only the explicit information given.\n",
        "                - If the answer is not found, respond with \"Don't Know.\"\n",
        "                - Do not make assumptions or add details not provided.\n",
        "                - Be concise, clear, and professional.\n",
        "                - When needed, add this note at the end of the response:\n",
        "                  \"For informational purposes only. Consult your local medical authority for advice.\"\n",
        "                - If the query doesn't seem to be relating to medical information, respond with\n",
        "                  \"Sorry, I can only answer questions related to medical data.\"\n",
        "\n",
        "                Your goal is to provide accurate, trustworthy, and empathetic responses.\n",
        "    \"\"\"\n",
        "    messages = [\n",
        "        {\n",
        "            \"role\": \"system\",\n",
        "            \"content\": prompt\n",
        "        },\n",
        "        {\"role\": \"user\", \"content\": query + \"Relevant information : \" + relevant_info}\n",
        "    ]\n",
        "\n",
        "    response = client.chat.completions.create(\n",
        "        model=model,\n",
        "        messages=messages,\n",
        "    )\n",
        "    content = response.choices[0].message.content\n",
        "    return content"
      ]
    },
    {
      "cell_type": "code",
      "source": [
        "query = \"dizziness, tiredness, vomiting and confusion\"\n",
        "#\"What are some potential side effects of long-term use of anticholinergics, particularly in older adults?\""
      ],
      "metadata": {
        "id": "2155CpUKcMeT"
      },
      "id": "2155CpUKcMeT",
      "execution_count": 48,
      "outputs": []
    },
    {
      "cell_type": "code",
      "source": [
        "print(word_wrap(generate_response(query,retrieved_documents)))"
      ],
      "metadata": {
        "colab": {
          "base_uri": "https://localhost:8080/"
        },
        "id": "7zjwsDThcr0b",
        "outputId": "cb54b9eb-8b9d-42bb-d480-17a2d97e9f48",
        "collapsed": true
      },
      "id": "7zjwsDThcr0b",
      "execution_count": 50,
      "outputs": [
        {
          "output_type": "stream",
          "name": "stdout",
          "text": [
            "The symptoms you described include dizziness, tiredness, vomiting, and\n",
            "confusion. These symptoms are associated with both pulmonary edema\n",
            "(fluid in the lungs) and cerebral edema (swelling of the brain).\n",
            "Additionally, you mentioned a persistent dry cough, fever, and\n",
            "shortness of breath even when resting, which are symptoms of pulmonary\n",
            "edema. Headache that does not respond to analgesics, unsteady gait,\n",
            "increased nausea and vomiting, and gradual loss of consciousness are\n",
            "symptoms of cerebral edema.\n",
            "\n",
            "Based on the provided information, it is\n",
            "possible that you are experiencing symptoms of altitude sickness, which\n",
            "can progress to high-altitude pulmonary edema (HAPE) or high-altitude\n",
            "cerebral edema (HACE). Altitude sickness typically occurs above 2,500\n",
            "meters (8,000 ft).\n",
            "\n",
            "It is important to consult with a local medical\n",
            "authority for advice regarding these symptoms.\n",
            "\n",
            "For informational\n",
            "purposes only. Consult your local medical authority for advice.\n",
            "\n",
            "Sorry,\n",
            "I can only answer questions related to medical data.\n"
          ]
        }
      ]
    },
    {
      "cell_type": "code",
      "source": [
        "print(word_wrap(generate_response(query,retrieved_metadata_documents)))"
      ],
      "metadata": {
        "colab": {
          "base_uri": "https://localhost:8080/"
        },
        "collapsed": true,
        "id": "RV-kh-SzObAS",
        "outputId": "e3c7d4d1-369e-4bfa-9f47-5040de32d7f7"
      },
      "id": "RV-kh-SzObAS",
      "execution_count": 51,
      "outputs": [
        {
          "output_type": "stream",
          "name": "stdout",
          "text": [
            "The provided information relates to altitude sickness, which includes\n",
            "pulmonary edema (fluid in the lungs) and cerebral edema (swelling of\n",
            "the brain) as symptoms. Considering the patient's symptoms of\n",
            "dizziness, tiredness, vomiting, and confusion, these could be\n",
            "consistent with altitude sickness. The symptom of a persistent dry\n",
            "cough could indicate the early stages of pulmonary edema, while the\n",
            "shortness of breath even when resting might suggest a more progressed\n",
            "stage. The headache that does not respond to analgesics, unsteady gait,\n",
            "and gradual loss of consciousness could indicate cerebral edema.\n",
            "However, it is essential to consult local medical authorities for\n",
            "advice.\n",
            "\n",
            "For informational purposes only. Consult your local medical\n",
            "authority for advice.\n"
          ]
        }
      ]
    },
    {
      "cell_type": "code",
      "source": [
        "query = \"What are some potential side effects of long-term use of anticholinergics, particularly in older adults?\""
      ],
      "metadata": {
        "id": "rAyfn6l8OzTT"
      },
      "id": "rAyfn6l8OzTT",
      "execution_count": null,
      "outputs": []
    },
    {
      "cell_type": "code",
      "source": [
        "if classify_query(query) == \"Yes\":\n",
        "    results = chroma_collection_metadata.query(query_texts=query, n_results=5, include=['documents', 'embeddings'])\n",
        "    retrieved_documents = results['documents'][0]\n",
        "    print(word_wrap(generate_response(query,retrieved_documents)))\n",
        "else:\n",
        "    print(word_wrap(generate_response(query,[])))"
      ],
      "metadata": {
        "colab": {
          "base_uri": "https://localhost:8080/"
        },
        "id": "AqX-SP2CoAJ3",
        "outputId": "c34d0cbd-59fb-46d1-b5f4-c5d0ddc8d069"
      },
      "id": "AqX-SP2CoAJ3",
      "execution_count": null,
      "outputs": [
        {
          "output_type": "stream",
          "name": "stdout",
          "text": [
            "Anticholinergics are a type of medication that can block the action of\n",
            "acetylcholine, a neurotransmitter in the body. These drugs are used to\n",
            "treat various conditions such as chronic obstructive pulmonary disease\n",
            "(COPD), asthma, allergies, and overactive bladder. \n",
            "\n",
            "Long-term use of\n",
            "anticholinergics, especially in older adults, can potentially lead to\n",
            "several side effects, including:\n",
            "\n",
            "1. Cognitive impairment: Prolonged\n",
            "use of anticholinergics may increase the risk of cognitive decline,\n",
            "including dementia and confusion.\n",
            "2. Increased risk of falls:\n",
            "Anticholinergics may cause dizziness, drowsiness, or unsteadiness,\n",
            "leading to an increased risk of falls and fractures in older adults.\n",
            "3.\n",
            "Constipation: Anticholinergics can slow down gut motility, potentially\n",
            "leading to constipation.\n",
            "4. Dry mouth: Anticholinergics can reduce\n",
            "saliva production, causing dry mouth and, in some cases, difficulty\n",
            "swallowing.\n",
            "5. Blurred vision: These medications can affect the muscles\n",
            "in the eyes, leading to blurred vision or other visual disturbances.\n",
            "6.\n",
            "Urinary retention: Anticholinergics can cause issues with urination,\n",
            "including difficulty starting or maintaining a urine stream.\n",
            "7.\n",
            "Increased heart rate: Long-term use of anticholinergics may lead to a\n",
            "faster heart rate, particularly at rest.\n",
            "\n",
            "It is essential to consult a\n",
            "healthcare provider before starting or stopping any medication. This\n",
            "information is provided for informational purposes only. Consult your\n",
            "local medical authority for advice.\n"
          ]
        }
      ]
    },
    {
      "cell_type": "code",
      "source": [],
      "metadata": {
        "id": "-yUmACoAssQT"
      },
      "id": "-yUmACoAssQT",
      "execution_count": null,
      "outputs": []
    }
  ],
  "metadata": {
    "colab": {
      "collapsed_sections": [
        "fpXCF-K2EMBI",
        "1x1yDlBPqnoD",
        "SL6vUkOJI0LD",
        "m13mjCGbeQ_b",
        "l9-TflHOeTqF",
        "BGlHIBgB-Zp0",
        "MpImuHNWIOpX",
        "7cyWxl_ynEPo",
        "5_lSO1-kupVc",
        "YNkSrNCdCMOh"
      ],
      "provenance": []
    },
    "kernelspec": {
      "display_name": "Python 3 (ipykernel)",
      "language": "python",
      "name": "python3"
    },
    "language_info": {
      "codemirror_mode": {
        "name": "ipython",
        "version": 3
      },
      "file_extension": ".py",
      "mimetype": "text/x-python",
      "name": "python",
      "nbconvert_exporter": "python",
      "pygments_lexer": "ipython3",
      "version": "3.12.4"
    }
  },
  "nbformat": 4,
  "nbformat_minor": 5
}